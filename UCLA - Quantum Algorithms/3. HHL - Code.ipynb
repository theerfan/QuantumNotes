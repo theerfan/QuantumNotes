{
 "cells": [
  {
   "attachments": {},
   "cell_type": "markdown",
   "metadata": {},
   "source": [
    "# Numerical Simulation"
   ]
  },
  {
   "cell_type": "code",
   "execution_count": 1,
   "metadata": {},
   "outputs": [],
   "source": [
    "import numpy as np"
   ]
  },
  {
   "cell_type": "code",
   "execution_count": 2,
   "metadata": {},
   "outputs": [],
   "source": [
    "def is_hermitian(matrix):\n",
    "    return np.allclose(matrix, matrix.conj().T)"
   ]
  },
  {
   "cell_type": "code",
   "execution_count": 115,
   "metadata": {},
   "outputs": [],
   "source": [
    "off_d = 1/3\n",
    "on_d = 1/2"
   ]
  },
  {
   "attachments": {},
   "cell_type": "markdown",
   "metadata": {},
   "source": [
    "Let's write some code to make a Hermitian matrix and get its eigenvalues:"
   ]
  },
  {
   "cell_type": "code",
   "execution_count": 120,
   "metadata": {},
   "outputs": [
    {
     "name": "stdout",
     "output_type": "stream",
     "text": [
      "A = [[1.  0.2]\n",
      " [0.2 1. ]]\n",
      "b = [1 0]\n",
      "Is A Hermitian? True\n",
      "The eigenvalues are [1.2 0.8]\n",
      "The ratio of the eigenvalues is 1.5\n"
     ]
    }
   ],
   "source": [
    "off_d = 1/5\n",
    "on_d = 1\n",
    "\n",
    "b = np.array([1, 0])\n",
    "\n",
    "A = np.array(\n",
    "    [[on_d, off_d], \n",
    "     [off_d, on_d]]\n",
    ")\n",
    "\n",
    "print(f\"A = {A}\")\n",
    "print(f\"b = {b}\")\n",
    "\n",
    "print(f\"Is A Hermitian? {is_hermitian(A)}\")\n",
    "\n",
    "eigenvalues, eigenvectors = np.linalg.eig(A)\n",
    "\n",
    "eig_ratio = eigenvalues[0] / eigenvalues[1]\n",
    "eig_ratio = np.round(eig_ratio, 3)\n",
    "\n",
    "print(f\"The eigenvalues are {eigenvalues}\")\n",
    "print(f\"The ratio of the eigenvalues is {eig_ratio}\")"
   ]
  },
  {
   "attachments": {},
   "cell_type": "markdown",
   "metadata": {},
   "source": [
    "The ratio of our eigenvalues means that we need to encode them in $2$ quantum states whose ratio is the same. We can do this as follows:\n",
    "\n",
    "$$\n",
    "e_0 = |10\\rangle \\quad (=2) \\\\\n",
    "\\, \\\\\n",
    "e_1 = |11\\rangle \\quad (=3)\n",
    "$$\n",
    "\n",
    "Which means we'll only need to use $2$ qubits for our clock register.\n"
   ]
  },
  {
   "attachments": {},
   "cell_type": "markdown",
   "metadata": {},
   "source": [
    "For $t$, we have to choose something so that our $\\tilde{\\lambda_j}$'s become integers.\n",
    "\n",
    "Given the formula $\\tilde{\\lambda_j} = \\frac{2^n \\lambda_j t}{2\\pi}$, knowing that our $2^n = 4$, we need to choose $t$ such that it cancels out this $4$ term, the $\\pi$ in the denominator and the least common denominator of our $\\lambda_j$'s, which is $\\frac{1}{5}$, as our eigenvalues are:\n",
    "\n",
    "$$\n",
    "\\lambda_0 = \\frac{6}{5} \\\\ \n",
    "\\, \\\\\n",
    "\\lambda_1 = \\frac{4}{5}\n",
    "$$\n",
    "\n",
    "Therefore, we pick $t=\\frac{5 \\pi}{4}$, which gives us:\n",
    "\n",
    "$$\n",
    "\\tilde{\\lambda_0} = 2 \\Rightarrow |\\tilde{\\lambda_0} \\rangle =  |10\\rangle \\\\\n",
    "\\, \\\\\n",
    "\\tilde{\\lambda_1} = 3 \\Rightarrow |\\tilde{\\lambda_1} \\rangle =  |11\\rangle\n",
    "$$\n",
    "\n",
    "Very nice!"
   ]
  },
  {
   "attachments": {},
   "cell_type": "markdown",
   "metadata": {},
   "source": [
    "Let's also just assume that \n",
    "$$\n",
    "|b\\rangle = \\begin{pmatrix} 0 \\\\ 1 \\end{pmatrix}\n",
    "$$"
   ]
  },
  {
   "attachments": {},
   "cell_type": "markdown",
   "metadata": {},
   "source": [
    "Let's find the $U$ matrix that we want to use in our Quantum Phase Estimation algorithm. Since we have $2$ clock qubits, we only need to apply $U^2$ and $U$."
   ]
  },
  {
   "cell_type": "code",
   "execution_count": 123,
   "metadata": {},
   "outputs": [
    {
     "name": "stdout",
     "output_type": "stream",
     "text": [
      "U = [[-0.70710678+0.70710678j  0.70710678-0.70710678j]\n",
      " [ 0.70710678-0.70710678j -0.70710678+0.70710678j]]\n",
      "\n",
      "U2 = [[ 3.45913843e-16-2.j -3.13396163e-16+2.j]\n",
      " [-3.13396163e-16+2.j  2.80878484e-16-2.j]]\n"
     ]
    }
   ],
   "source": [
    "t = 5 * np.pi / 4 \n",
    "\n",
    "U = np.exp(-1j * t * A)\n",
    "\n",
    "U2 = U @ U\n",
    "\n",
    "print(f\"U = {U}\")\n",
    "print()\n",
    "print(f\"U2 = {U2}\")\n"
   ]
  },
  {
   "attachments": {},
   "cell_type": "markdown",
   "metadata": {},
   "source": [
    "And we want to create the controlled versions of these unitaries, so we make them using this formula:\n",
    "\n",
    "$$\n",
    "CU = \\begin{pmatrix} I & 0 \\\\ 0 & U \\end{pmatrix}\n",
    "$$"
   ]
  },
  {
   "cell_type": "code",
   "execution_count": 127,
   "metadata": {},
   "outputs": [],
   "source": [
    "def make_controlled_U(U):\n",
    "    n = U.shape[0]\n",
    "    return np.block([[np.eye(n), np.zeros((n, n))], \n",
    "                     [np.zeros((n, n)), U]])"
   ]
  },
  {
   "cell_type": "code",
   "execution_count": 128,
   "metadata": {},
   "outputs": [
    {
     "name": "stdout",
     "output_type": "stream",
     "text": [
      "c_U = [[ 1.        +0.j          0.        +0.j          0.        +0.j\n",
      "   0.        +0.j        ]\n",
      " [ 0.        +0.j          1.        +0.j          0.        +0.j\n",
      "   0.        +0.j        ]\n",
      " [ 0.        +0.j          0.        +0.j         -0.70710678+0.70710678j\n",
      "   0.70710678-0.70710678j]\n",
      " [ 0.        +0.j          0.        +0.j          0.70710678-0.70710678j\n",
      "  -0.70710678+0.70710678j]]\n",
      "\n",
      "c_U2 = [[ 1.00000000e+00+0.j  0.00000000e+00+0.j  0.00000000e+00+0.j\n",
      "   0.00000000e+00+0.j]\n",
      " [ 0.00000000e+00+0.j  1.00000000e+00+0.j  0.00000000e+00+0.j\n",
      "   0.00000000e+00+0.j]\n",
      " [ 0.00000000e+00+0.j  0.00000000e+00+0.j  3.45913843e-16-2.j\n",
      "  -3.13396163e-16+2.j]\n",
      " [ 0.00000000e+00+0.j  0.00000000e+00+0.j -3.13396163e-16+2.j\n",
      "   2.80878484e-16-2.j]]\n"
     ]
    }
   ],
   "source": [
    "c_U = make_controlled_U(U)\n",
    "c_U2 = make_controlled_U(U2)\n",
    "\n",
    "print(f\"c_U = {c_U}\")\n",
    "print()\n",
    "print(f\"c_U2 = {c_U2}\")\n"
   ]
  },
  {
   "cell_type": "code",
   "execution_count": 132,
   "metadata": {},
   "outputs": [
    {
     "data": {
      "text/plain": [
       "array([[ 0.70710678, -0.70710678],\n",
       "       [ 0.70710678,  0.70710678]])"
      ]
     },
     "execution_count": 132,
     "metadata": {},
     "output_type": "execute_result"
    }
   ],
   "source": [
    "eigenvectors"
   ]
  },
  {
   "attachments": {},
   "cell_type": "markdown",
   "metadata": {},
   "source": [
    "So we know our eigenvectors are:\n",
    "\n",
    "$$\n",
    "\\vec{e_0} = \\frac{1}{\\sqrt{2}} \\begin{pmatrix} 1 \\\\ -1 \\end{pmatrix} \\\\\n",
    "\\, \\\\\n",
    "\\Rightarrow |e_0 \\rangle = | - \\rangle \\\\\n",
    "\\, \\\\\n",
    "\\vec{e_1} = \\frac{1}{\\sqrt{2}} \\begin{pmatrix} 1 \\\\ 1 \\end{pmatrix} \\\\\n",
    "\\, \\\\\n",
    "\\Rightarrow |e_1 \\rangle = | + \\rangle\n",
    "$$\n",
    "\n",
    "Which means our $|b\\rangle$ state can be written as:\n",
    "\n",
    "$$\n",
    "|b\\rangle = \\begin{pmatrix} 0 \\\\ 1 \\end{pmatrix} = \\frac{1}{\\sqrt{2}} \\times \\vec{e_0} + \\frac{1}{\\sqrt{2}} \\times \\vec{e_1}\n",
    "$$\n",
    "\n",
    "Which means:\n",
    "\n",
    "$$\n",
    "b_0 = \\frac{1}{\\sqrt{2}}, \\quad b_1 = \\frac{1}{\\sqrt{2}}\n",
    "$$"
   ]
  },
  {
   "cell_type": "code",
   "execution_count": null,
   "metadata": {},
   "outputs": [],
   "source": []
  },
  {
   "attachments": {},
   "cell_type": "markdown",
   "metadata": {},
   "source": [
    "Step 1.\n",
    "\n",
    "After applying the QPE with the controlled versions of our $U$ and $U^2$ matrices and with our chosen $t$, our state becomes:\n",
    "\n",
    "$$\n",
    "\\frac{1}{\\sqrt{2}}  \\times |- \\rangle |10\\rangle |0\\rangle + \\frac{1}{\\sqrt{2}}  \\times |+ \\rangle |11\\rangle |0\\rangle\n",
    "$$\n",
    "\n",
    "(having written down how QPE works and its internal workings, we'll omit the numerical calculations for brevity and just use the final state)"
   ]
  },
  {
   "attachments": {},
   "cell_type": "markdown",
   "metadata": {},
   "source": [
    "Knowing our $\\tilde{\\lambda_j}$'s, we choose $C=1$ to find the angle required for our $R_y$ gate.\n",
    "\n",
    "Remembering how our state should look like after the rotation:\n",
    "\n",
    "$$\n",
    "\\sum_{j=0}^{N-1} b_j | u_j \\rangle | \\tilde{\\lambda_j} \\rangle  \\Big( \\sqrt{1 - \\frac{C^2}{\\tilde{\\lambda_j}^2}} | 0 \\rangle _a + \\frac{C}{\\tilde{\\lambda_j}} | 1 \\rangle_a \\Big)\n",
    "$$\n",
    "\n",
    "This means also $C \\leq \\tilde{\\lambda_j}$. Since the minimal $\\tilde{\\lambda_j}$ is $1$, we will set $C = 1$ to maximize the probability of measuring $| 1 \\rangle$ during the ancilla bit measurement. \n",
    "\n",
    "The formula for the angle is:\n",
    "\n",
    "$$\n",
    "\\theta_j = 2\\cos^{-1}(\\frac{C}{\\tilde{\\lambda_j}})\n",
    "$$\n",
    "\n",
    "Which means:"
   ]
  },
  {
   "cell_type": "code",
   "execution_count": 133,
   "metadata": {},
   "outputs": [
    {
     "name": "stdout",
     "output_type": "stream",
     "text": [
      "theta_0 = 2.0943951023931957\n",
      "theta_1 = 2.4619188346815495\n"
     ]
    }
   ],
   "source": [
    "theta_0 = 2 * np.arccos(1/2)\n",
    "theta_1 = 2 * np.arccos(1/3)\n",
    "\n",
    "print(f\"theta_0 = {theta_0}\")\n",
    "print(f\"theta_1 = {theta_1}\")"
   ]
  },
  {
   "attachments": {},
   "cell_type": "markdown",
   "metadata": {},
   "source": [
    "Now, for executing the rotation, we need to control it with our eigenstates, so our total rotation gate becomes:\n",
    "\n",
    "$$\n",
    "Rot = |10\\rangle \\langle 10| \\otimes R_y(\\theta_0) + |11\\rangle \\langle 11| \\otimes R_y(\\theta_1)\n",
    "$$\n",
    "\n",
    "Where the control is our clock register and the target is our ancilla qubit."
   ]
  },
  {
   "attachments": {},
   "cell_type": "markdown",
   "metadata": {},
   "source": [
    "Step 2.\n",
    "\n",
    "So after the rotation, our state becomes:\n",
    "\n",
    "$$\n",
    "\\begin{align*} \n",
    "&  \\frac{1}{\\sqrt{2}}  \\times |- \\rangle |10\\rangle \\Big( \\sqrt{\\frac{3}{4}} |0 \\rangle + \\frac{1}{2} | 1 \\rangle \\Big) \\, +  \\\\\n",
    "& \\frac{1}{\\sqrt{2}}  \\times |+ \\rangle |11\\rangle \\Big( \\sqrt{\\frac{8}{9}} |0 \\rangle + \\frac{1}{3} | 1 \\rangle \\Big)\n",
    "\\end{align*}\n",
    "$$"
   ]
  },
  {
   "attachments": {},
   "cell_type": "markdown",
   "metadata": {},
   "source": [
    "Step 3.\n",
    "\n",
    "Now we perform the inverse QPE on our clock and $b$ register to put the clock register back to $|0^{n}\\rangle$ state and the total state becomes:\n",
    "\n",
    "$$\n",
    "\\begin{align*} \n",
    "&  \\frac{1}{\\sqrt{2}}  \\times |- \\rangle |00\\rangle \\Big( \\sqrt{\\frac{3}{4}} |0 \\rangle + \\frac{1}{2} | 1 \\rangle \\Big) \\, +  \\\\\n",
    "& \\frac{1}{\\sqrt{2}}  \\times |+ \\rangle |00\\rangle \\Big( \\sqrt{\\frac{8}{9}} |0 \\rangle + \\frac{1}{3} | 1 \\rangle \\Big)\n",
    "\\end{align*}\n",
    "$$"
   ]
  },
  {
   "attachments": {},
   "cell_type": "markdown",
   "metadata": {},
   "source": [
    "Step 4. \n",
    "\n",
    "Now we measure and assuming that we've measured $|1\\rangle$ on our ancilla qubit, our state becomes:\n",
    "(omitting the normalization factor and the clock qubits)\n",
    "\n",
    "$$\n",
    "\\frac{1}{\\sqrt{2}} \\times \\frac{1}{2} |- \\rangle |1\\rangle\n",
    "+ \\frac{1}{\\sqrt{2}} \\times \\frac{1}{3} |+ \\rangle |1\\rangle\n",
    "$$"
   ]
  },
  {
   "cell_type": "code",
   "execution_count": 151,
   "metadata": {},
   "outputs": [],
   "source": [
    "x = np.linalg.inv(A) @ b\n",
    "\n",
    "minus_state = np.array([1, -1]) / np.sqrt(2)\n",
    "plus_state = np.array([1, 1]) / np.sqrt(2)\n",
    "\n",
    "x_hhl = 0.5 * minus_state + 1/3 * plus_state"
   ]
  },
  {
   "attachments": {},
   "cell_type": "markdown",
   "metadata": {},
   "source": [
    "We see that the real $x$ that we would obtain by inverting the matrix and multiplying it with our $b$ vector is:"
   ]
  },
  {
   "cell_type": "code",
   "execution_count": 150,
   "metadata": {},
   "outputs": [
    {
     "name": "stdout",
     "output_type": "stream",
     "text": [
      "x = [ 1.04166667 -0.20833333]\n"
     ]
    }
   ],
   "source": [
    "print(f\"x = {x}\")"
   ]
  },
  {
   "attachments": {},
   "cell_type": "markdown",
   "metadata": {},
   "source": [
    "And the answer we get from our HHL algorithm is:"
   ]
  },
  {
   "cell_type": "code",
   "execution_count": 152,
   "metadata": {},
   "outputs": [
    {
     "name": "stdout",
     "output_type": "stream",
     "text": [
      "hhl = [ 0.58925565 -0.11785113]\n"
     ]
    }
   ],
   "source": [
    "print(f\"hhl = {x_hhl}\")"
   ]
  },
  {
   "attachments": {},
   "cell_type": "markdown",
   "metadata": {},
   "source": [
    "To see that they're equivalent by a constant factor, we can element-wise divide the two vectors and see that:"
   ]
  },
  {
   "cell_type": "code",
   "execution_count": 153,
   "metadata": {},
   "outputs": [
    {
     "data": {
      "text/plain": [
       "array([1.76776695, 1.76776695])"
      ]
     },
     "execution_count": 153,
     "metadata": {},
     "output_type": "execute_result"
    }
   ],
   "source": [
    "x / x_hhl"
   ]
  },
  {
   "attachments": {},
   "cell_type": "markdown",
   "metadata": {},
   "source": [
    "Which means that the constant factor is:\n",
    "$$\n",
    "1.76776695\n",
    "$$\n",
    "\n",
    "And we indeed get the correct answer by running the HHL algorithm!"
   ]
  }
 ],
 "metadata": {
  "kernelspec": {
   "display_name": "Python 3",
   "language": "python",
   "name": "python3"
  },
  "language_info": {
   "codemirror_mode": {
    "name": "ipython",
    "version": 3
   },
   "file_extension": ".py",
   "mimetype": "text/x-python",
   "name": "python",
   "nbconvert_exporter": "python",
   "pygments_lexer": "ipython3",
   "version": "3.10.7"
  },
  "orig_nbformat": 4
 },
 "nbformat": 4,
 "nbformat_minor": 2
}
