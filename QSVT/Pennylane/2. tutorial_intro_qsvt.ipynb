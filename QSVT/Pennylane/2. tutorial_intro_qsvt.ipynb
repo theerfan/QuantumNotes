{
  "cells": [
    {
      "cell_type": "code",
      "execution_count": null,
      "metadata": {
        "collapsed": false
      },
      "outputs": [],
      "source": [
        "# This cell is added by sphinx-gallery\n# It can be customized to whatever you like\n%matplotlib inline"
      ]
    },
    {
      "cell_type": "markdown",
      "metadata": {},
      "source": [
        "Intro to QSVT\n=============\n\n::: {.meta}\n:property=\\\"og:description\\\": Introduction to the Quantum Singular Value\nTransformation algorithm :property=\\\"og:image\\\":\n<https://pennylane.ai/qml/_static/demonstration_assets//thumbnail_intro_qsvt.png>\n:::\n\n::: {.related}\nfunction\\_fitting\\_qsp Function Fitting using Quantum Signal Processing\n:::\n\n*Author: Juan Miguel Arrazola --- Posted: May 23, 2023.*\n\nFew quantum algorithms deserve to be placed in a hall of fame: Shor\\'s\nalgorithm, Grover\\'s algorithm, quantum phase estimation; maybe even HHL\nand VQE. There is now a new technique with prospects of achieving such\ncelebrity status: the quantum singular value transformation (QSVT).\nSince you\\'re reading this, chances are you have at least heard of QSVT\nand its broad applicability.\n\nThis tutorial introduces the fundamental principles of QSVT with example\ncode from PennyLane. We focus on the basics; while these techniques may\nappear intimidating in the literature, the fundamentals are relatively\neasy to grasp. Teaching you these core principles is the purpose of this\ntutorial.\n\n| \n\n![](../_static/demonstration_assets/intro_qsvt/thumbnail_intro_qsvt.png){.align-center\nwidth=\"50.0%\"}\n\n| \n\nTransforming scalars encoded in matrices\n----------------------------------------\n\nMy personal perspective on QSVT is that it is really a result in linear\nalgebra that tells us how to transform matrices that are inside larger\nunitary matrices.\n\nLet\\'s start with the simplest example: we encode a scalar $a$ inside a\n2x2 matrix $U(a)$. By encoding we mean that the matrix depends\nexplicitly on $a$. This encoding can be achieved in multiple ways, for\nexample:\n\n$$\\begin{aligned}\nU(a) = \\begin{pmatrix} a & \\sqrt{1-a^2}\\\\\n\\sqrt{1-a^2} & -a\n\\end{pmatrix}.\n\\end{aligned}$$\n\nThe parameter $a$ must lie between -1 and 1 to ensure the matrix is\nunitary, but this is just a matter of rescaling. We want the matrix to\nbe unitary so that it can be implemented on a quantum computer.\n\nWe now ask the crucial question that will get everything started: what\nhappens if we repeatedly alternate multiplication of this matrix by some\nother matrix? \ud83e\udd14 There are multiple choices for the \\\"other matrix\\\", for\nexample\n\n$$\\begin{aligned}\nS(\\phi) = \\begin{pmatrix} e^{i\\phi} & 0\\\\\n0 & e^{-i\\phi}\n\\end{pmatrix},\n\\end{aligned}$$\n\nwhich has the advantage of being diagonal. This unitary is known as the\n**signal-processing** operator. It depends on a choice of angle $\\phi$\nthat will play an important role.\n\nThe answer to our question is encapsulated in a method known as\n**quantum signal processing** (QSP). If we alternate products of $U(a)$\nand $S(\\phi)$, keeping $a$ fixed and varying $\\phi$, the top-left corner\nof the resulting matrix is a polynomial transformation of $a$.\nMathematically,\n\n$$\\begin{aligned}\nS(\\phi_0)\\prod_{k=1}^d U(a) S(\\phi_k) = \\begin{pmatrix}\nP(a) & *\\\\\n* & *\n\\end{pmatrix}.\n\\end{aligned}$$\n\nThe asterisk $*$ is used to indicate that we are not interested in these\nentries.\n\nThe intuition behind this result is that every time we multiply by\n$U(a)$, its entries are transformed to a polynomial of higher degree,\nand by interleaving signal-processing operators, it\\'s possible to tune\nthe coefficients of the polynomial. For example\n\n$$\\begin{aligned}\nS(-\\pi/2) U(a) S(\\pi/2) U(a) S(0) = \\begin{pmatrix}\n2a^2-1 & 0\\\\\n0 & 2a^2 -1\n\\end{pmatrix}.\n\\end{aligned}$$\n\nThe main quantum signal processing theorem states that it is possible to\nfind angles that implement a large class of complex polynomial\ntransformations $P(a)$ with maximum degree and parity determined by the\nnumber of angles.\n\nThe results of the theorem can then be extended to show that using\nadditional rotations, it is possible to find $d+1$ angles that implement\nany real polynomial of parity $d \\mod 2$ and maximum degree $d$.\nMultiple QSP sequences can then be used to implement real polynomials of\nindefinite parity. Finding the desired angles can be done efficiently in\npractice, but identifying the best methods is an active area of\nresearch. You can learn more in our [QSP\ndemo](https://pennylane.ai/qml/demos/function_fitting_qsp.html) and in\nRef..\n\nFor now, let\\'s look at a simple example of how quantum signal\nprocessing can be implemented using PennyLane. We aim to perform a\ntransformation by the Legendre polynomial $(5 x^3 - 3x)/2$, for which we\nuse pre-computed optimal angles. As you will soon learn, QSP can be\nviewed as a special case of QSVT. We thus use the\n`~.pennylane.qsvt`{.interpreted-text role=\"func\"} operation to construct\nthe output matrix and compare the resulting transformation to the target\npolynomial.\n"
      ]
    },
    {
      "cell_type": "code",
      "execution_count": null,
      "metadata": {
        "collapsed": false
      },
      "outputs": [],
      "source": [
        "import pennylane as qml\nimport numpy as np\nimport matplotlib.pyplot as plt\n\n\ndef target_poly(a):\n    return 0.5 * (5 * a**3 - 3 * a)\n\n\n# pre-optimized angles\nangles = [-0.20409113, -0.91173829, 0.91173829, 0.20409113]\n\n\ndef qsvt_output(a):\n    # output matrix\n    out = qml.matrix(qml.qsvt(a, angles, wires=[0]))\n    return out[0, 0]  # top-left entry\n\n\na_vals = np.linspace(-1, 1, 50)\nqsvt = [np.real(qsvt_output(a)) for a in a_vals]  # neglect small imaginary part\ntarget = [target_poly(a) for a in a_vals]\n\n\nplt.plot(a_vals, qsvt, label=\"target\")\nplt.plot(a_vals, target, \"*\", label=\"qsvt\")\n\nplt.legend()\nplt.show()"
      ]
    },
    {
      "cell_type": "markdown",
      "metadata": {},
      "source": [
        "It works! \ud83c\udf89 \ud83d\udc83\n\nQuantum signal processing is a result about multiplication of 2x2\nmatrices, yet it is the core principle underlying the QSVT algorithm. If\nyou\\'ve made it this far, you\\'re in great shape for the rest to come \ud83e\udd47\n\nTransforming matrices encoded in matrices\n=========================================\n\nTime to ask another key question: what if instead of encoding a scalar,\nwe encode an entire matrix $A$? \ud83e\udde0 This is trickier since we need to\nensure that the larger operator remains unitary. A way to achieve this\nis to use a similar construction as in the scalar case:\n\n$$\\begin{aligned}\nU(A) = \\begin{pmatrix} A & \\sqrt{I-A A^\\dagger}\\\\\n\\sqrt{I-A^\\dagger A} & -A^\\dagger\n\\end{pmatrix}.\n\\end{aligned}$$\n\nThis operator is a valid unitary regardless of the form of $A$; it\ndoesn\\'t even have to be a square matrix. We just need to ensure that\n$A$ is properly normalized such that its largest singular value is\nbounded by 1.\n\nAny such method of encoding a matrix inside a larger unitary is known as\na **block encoding**. In our construction, the matrix $A$ is encoded in\nthe top-left block, hence the name. PennyLane supports the\n`~pennylane.BlockEncode`{.interpreted-text role=\"class\"} operation that\nfollows the construction above. Let\\'s test it out with an example\nencoding first a square matrix:\n"
      ]
    },
    {
      "cell_type": "code",
      "execution_count": null,
      "metadata": {
        "collapsed": false
      },
      "outputs": [],
      "source": [
        "# square matrix\nA = [[0.1, 0.2], [0.3, 0.4]]\nU1 = qml.BlockEncode(A, wires=range(2))\nprint(\"U(A):\")\nprint(np.round(qml.matrix(U1), 2))"
      ]
    },
    {
      "cell_type": "markdown",
      "metadata": {},
      "source": [
        "And also a rectangular matrix\n"
      ]
    },
    {
      "cell_type": "code",
      "execution_count": null,
      "metadata": {
        "collapsed": false
      },
      "outputs": [],
      "source": [
        "B = [[0.5, -0.5, 0.5]]\nU2 = qml.BlockEncode(B, wires=range(2))\nprint(\"U(B):\")\nprint(np.round(qml.matrix(U2), 2))"
      ]
    },
    {
      "cell_type": "markdown",
      "metadata": {},
      "source": [
        "Notice that we haven\\'t really made a reference to quantum computing;\neverything is just linear algebra. Told you so! \ud83d\ude08\n\nQuantum kicks in when we construct circuits that implement a\nblock-encoding unitary. Arguably the hardest thing about QSVT is\nimplementing block encodings. We don\\'t cover such methods in detail\nhere, but for reference, a popular approach is to express $A$ as a\nlinear combination of unitaries and define associated $\\text{PREPARE}$\nand $\\text{SELECT}$ operators. Then the operator\n\n$$U=\\text{PREP}^\\dagger\\cdot\\text{SEL}\\cdot\\text{PREP},$$\n\nis a block-encoding of $A$ up to a constant factor.\n\nTime for a third key question: Can we use the same strategy as in QSP to\npolynomially transform a block-encoded matrix? Because that would be\nfantastic \ud83d\ude0e\n\nFor this to be possible, we need to generalize the signal-processing\noperator $S(\\phi)$ to higher dimensions. This can be done by using a\ndiagonal unitary where we apply the phase $e^{i\\phi}$ to the subspace\ndetermined by the block, and the phase $e^{-i \\phi}$ everywhere else.\nFor example, revisiting the square matrix $A$ in the code above, where\n$A$ is encoded in a two-dimensional subspace, the corresponding operator\nis\n\n$$\\begin{aligned}\n\\begin{pmatrix} e^{i\\phi} & 0 & 0 & 0\\\\\n0 & e^{i\\phi} & 0 & 0 \\\\\n0 & 0 & e^{-i\\phi} & 0\\\\\n0 & 0 & 0 & e^{-i\\phi} \\\\\n\\end{pmatrix}.\n\\end{aligned}$$\n\nThese are known as **projector-controlled phase gates**, for which we\nuse the symbol $\\Pi(\\phi)$.\n\nWhen $A$ is not square, we have to be careful and define two operators:\none acting on the row subspace and another on the column subspace.\nProjector-controlled phase gates are implemented in PennyLane using the\n`~pennylane.PCPhase`{.interpreted-text role=\"class\"} operation. Here\\'s\na simple example:\n"
      ]
    },
    {
      "cell_type": "code",
      "execution_count": null,
      "metadata": {
        "collapsed": false
      },
      "outputs": [],
      "source": [
        "dim = 2\nphi = np.pi / 2\npcp = qml.PCPhase(phi, dim, wires=range(2))\nprint(\"Pi:\")\nprint(np.round(qml.matrix(pcp), 2))"
      ]
    },
    {
      "cell_type": "markdown",
      "metadata": {},
      "source": [
        "As you may have guessed, this generalization of QSP does the trick. By\ncleverly alternating a block-encoding unitary and the appropriate\nprojector-controlled phase gates, we can polynomially transform the\nencoded matrix. The result is the QSVT algorithm.\n\nMathematically, when the polynomial degree $d$ is even (number of angles\nis $d + 1$), the QSVT algorithm states that\n\n$$\\begin{aligned}\n\\left[\\prod_{k=1}^{d/2}\\Pi_{\\phi_{2k-1}}U(A)^\\dagger \\tilde{\\Pi}_{\\phi_{2k}} U(A)\\right]\\Pi_{\\phi_{d+1}}=\n\\begin{pmatrix} P(A) & *\\\\\n* & *\n\\end{pmatrix}.\n\\end{aligned}$$\n\nThe tilde is used in the projector-controlled phase gates to distinguish\nwhether they act on the column or row subspaces. The polynomial\ntransformation of $A$ is defined in terms of its singular value\ndecomposition\n\n$$P(A) = \\sum_k P(\\sigma_k)|w_k\\rangle \\langle v_k|,$$\n\nwhere we use braket notation to denote the left and right singular\nvectors. For technical reasons, the sequence looks slightly different\nwhen the polynomial degree is odd:\n\n$$\\begin{aligned}\n\\tilde{\\Pi}_{\\phi_1}\\left[\\prod_{k=1}^{(d-1)/2}\\Pi_{\\phi_{2k}}U(A)^\\dagger \\tilde{\\Pi}_{\\phi_{2k+1}} U(A)\\right]\\Pi_{\\phi_{d+1}}=\n\\begin{pmatrix}\nP(A) & *\\\\\n* & *\n\\end{pmatrix}.\n\\end{aligned}$$\n\nAs with QSP, it is possible to use the QSVT sequence to apply any real\npolynomial transformation up to degree $d$ when using $d+1$ angles. In\nfact, as long as we\\'re careful with conventions, we can use the same\nangles regardless of the dimensions of $A$.\n\nThe QSVT construction is a beautiful result. By using a number of\noperations that grows linearly with the degree of the target polynomial,\nwe can transform the singular values of arbitrary block-encoded matrices\nwithout ever having to actually perform singular value decompositions!\nIf the block encoding circuits can be implemented in polynomial time in\nthe number of qubits, the resulting quantum algorithm will also run in\npolynomial time. This is very powerful.\n\nIn PennyLane, implementing the QSVT transformation is as simple as using\n`~.pennylane.qsvt`{.interpreted-text role=\"func\"}. Let\\'s revisit our\nprevious example and transform a matrix according to the same Legendre\npolynomial. We\\'ll use a diagonal matrix with eigenvalues evenly\ndistributed between -1 and 1, allowing us to easily check the\ntransformation.\n"
      ]
    },
    {
      "cell_type": "code",
      "execution_count": null,
      "metadata": {
        "collapsed": false
      },
      "outputs": [],
      "source": [
        "eigvals = np.linspace(-1, 1, 16)\nA = np.diag(eigvals)  # 16-dim matrix\nU_A = qml.matrix(qml.qsvt)(A, angles, wires=range(5))  # block-encoded in 5-qubit system\n\nqsvt_A = np.real(np.diagonal(U_A))[:16]  # retrieve transformed eigenvalues\n\nplt.plot(a_vals, target, label=\"target\")\nplt.plot(eigvals, qsvt_A, \"*\", label=\"qsvt\")\n\nplt.legend()\nplt.show()"
      ]
    },
    {
      "cell_type": "markdown",
      "metadata": {},
      "source": [
        "The `~pennylane.qsvt`{.interpreted-text role=\"func\"} operation is\ntailored for use in simulators and employs standard forms for block\nencodings and projector-controlled phase shifts. Advanced users can\ndefine their own version of these operators with explicit quantum\ncircuits, and construct the resulting QSVT algorithm using the\n`~pennylane.QSVT`{.interpreted-text role=\"class\"} template.\n\nFinal thoughts\n==============\n\nThe original paper introducing the QSVT algorithm[^1] described a series\nof potential applications, notably Hamiltonian simulation and solving\nlinear systems of equations. QSVT has also been used as a unifying\nframework for different quantum algorithms[^2]. One of my favourite uses\nof QSVT is to transform a molecular Hamiltonian by a polynomial\napproximation of a step function[^3]. This sets large eigenvalues to\nzero, effectively performing a projection onto a low-energy subspace.\n\nThe PennyLane team is motivated to create tools that can empower\nresearchers worldwide to develop the innovations that will define the\npresent and future of quantum computing. We have designed QSVT support\nto help you master the concepts and perform rapid prototyping of new\nideas. We look forward to seeing the innovations that will result from\nyour journey.\n\nReferences\n==========\n\n[^1]: Andr\u00e1s Gily\u00e9n, Yuan Su, Guang Hao Low, Nathan Wiebe, \\\"Quantum\n    singular value transformation and beyond: exponential improvements\n    for quantum matrix arithmetics\\\", [Proceedings of the 51st Annual\n    ACM SIGACT Symposium on the Theory of\n    Computing](https://dl.acm.org/doi/abs/10.1145/3313276.3316366), 2019\n\n[^2]: John M. Martyn, Zane M. Rossi, Andrew K. Tan, and Isaac L. Chuang,\n    \\\"Grand Unification of Quantum Algorithms\\\", [PRX Quantum 2,\n    040203](https://journals.aps.org/prxquantum/abstract/10.1103/PRXQuantum.2.040203),\n    2021\n\n[^3]: Lin, Lin, and Yu Tong, \\\"Near-optimal ground state preparation\\\",\n    [Quantum 4,\n    372](https://quantum-journal.org/papers/q-2020-12-14-372/), 2020\n"
      ]
    },
    {
      "cell_type": "markdown",
      "metadata": {},
      "source": [
        "About the author\n================\n"
      ]
    }
  ],
  "metadata": {
    "kernelspec": {
      "display_name": "Python 3",
      "language": "python",
      "name": "python3"
    },
    "language_info": {
      "codemirror_mode": {
        "name": "ipython",
        "version": 3
      },
      "file_extension": ".py",
      "mimetype": "text/x-python",
      "name": "python",
      "nbconvert_exporter": "python",
      "pygments_lexer": "ipython3",
      "version": "3.10.13"
    }
  },
  "nbformat": 4,
  "nbformat_minor": 0
}