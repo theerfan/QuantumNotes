{
  "cells": [
    {
      "cell_type": "code",
      "execution_count": null,
      "metadata": {
        "collapsed": false
      },
      "outputs": [],
      "source": [
        "# This cell is added by sphinx-gallery\n# It can be customized to whatever you like\n%matplotlib inline"
      ]
    },
    {
      "cell_type": "markdown",
      "metadata": {},
      "source": [
        "Block encoding with matrix access oracles\n=========================================\n\nProminent quantum algorithms such as quantum phase estimation and\nquantum singular value transformation sometimes need to use\n**non-unitary** matrices inside quantum circuits. This is problematic\nbecause quantum computers can only perform unitary evolutions \ud83d\udd25. Block\nencoding is a technique that solves this problem by embedding a\nnon-unitary operator as a sub-block of a larger unitary matrix \ud83e\uddef.\n\nIn previous demos we have discussed methods for\n[simulator-friendly](https://pennylane.ai/qml/demos/tutorial_intro_qsvt#transforming-matrices-encoded-in-matrices)\nencodings and block encodings using [linear combination of\nunitaries](https://pennylane.ai/qml/demos/tutorial_lcu_blockencoding)\n(LCU) decompositions. In this tutorial we explore another general block\nencoding framework that can be very efficient for sparse and structured\nmatrices: block encoding with matrix access oracles.\n\n![](../_static/demonstration_assets/block_encoding/thumbnail_Block_Encodings_Matrix_Oracle.png){.align-center\nwidth=\"50.0%\"}\n\nA general circuit for block encoding an arbitrary matrix\n$A \\in \\mathbb{C}^{N \\times N}$ with $N = 2^{n}$ can be constructed as\nshown in the figure below, if we have access to the oracles $U_A$ and\n$U_B$:\n\n![](../_static/demonstration_assets/block_encoding/general_circuit.png){.align-center\nwidth=\"50.0%\"}\n\nWhere the $H^{\\otimes n}$ operation is a Hadamard transformation on $n$\nqubits. The $U_A$ operation is an oracle which encodes the matrix\nelement $A_{i,j}$ into the the amplitude of the ancilla qubit. The $U_B$\noracle ensures that we iterate over every combination of $(i,j)$.\n\nFinding an optimal quantum gate decomposition that implements $U_A$ and\n$U_B$ is not always possible. We now explore two different approaches\nfor constructing these oracles that can be very efficient for matrices\nwith specific structure or sparsity.\n\nBlock encoding structured matrices\n----------------------------------\n\nIn order to better understand the oracle access framework, let us first\ndefine $U_A$ and $U_B$ for the exact block-encoding of $A$. The $U_A$\noracle is responsible for encoding the matrix entries of $A$ into the\namplitude of an auxilary qubit $|0\\rangle_{\\text{anc}}$:\n\n$$U_A |0\\rangle_{\\text{anc}} |i\\rangle |j\\rangle = |A_{i,j}\\rangle_{\\text{anc}} |i\\rangle |j\\rangle,$$\n\nwhere\n\n$$|A_{i,j}\\rangle_{\\text{anc}} \\equiv A_{i,j}|0\\rangle_{\\text{anc}} + \\sqrt{1 - |A_{i,j}|^2}|1\\rangle_{\\text{anc}}.$$\n\nThe $U_B$ oracle is responsible for ensuring proper indexing of each\nentry in $A$ and for this algorithm, it simplifies to be the\n`~.pennylane.SWAP`{.interpreted-text role=\"class\"} gate:\n\n$$U_B |i\\rangle|j\\rangle \\ = \\ |j\\rangle |i\\rangle$$\n\nThe naive approach is to construct $U_A$ using a sequence of\nmulti-controlled $Ry(\\alpha)$ rotation gates with rotation angles\ncomputed as $\\alpha = \\text{arccos}(A_{i,j})$. It turns out that this\nrequires $O(N^{4})$ gates and is very inefficient. A more efficient\napproach is the Fast Approximate BLock Encodings (FABLE) technique,\nwhich uses the oracle access framework and some clever approximations \ud83e\udde0.\nThe level of approximation in FABLE can be adjusted to simplify the\nresulting circuit. For matrices with specific structures, FABLE provides\nan efficient circuit *without* reducing accuracy.\n\nThe FABLE circuit is constructed from a set of single $Ry$ rotation and\nC-NOT gates. We can remove the need for multi-controlled rotations using\na special transformation of the angles (see for details). The rotation\nangles, $(\\theta_1, ..., \\theta_n)$, are obtained from a transformation\nof the elements of the block-encoded matrix.\n\n$$\\begin{aligned}\n\\begin{pmatrix} \\theta_1 \\\\ \\cdots \\\\ \\theta_n \\end{pmatrix} =\nM \\begin{pmatrix} \\alpha_1 \\\\ \\cdots \\\\ \\alpha_n \\end{pmatrix}.\n\\end{aligned}$$\n\nThe angles $\\alpha$ are obtained from the matrix elements of the matrix\n$A$ as $\\alpha_1 = \\text{arccos}(A_{00}), ...,$ and $M$ is the\ntransformation matrix that can be obtained with the\n`~.pennylane.templates.state_preparations.mottonen.compute_theta`{.interpreted-text\nrole=\"func\"} function of PennyLane.\n\nLet\\'s now construct the FABLE block encoding circuit for a structured\nmatrix.\n"
      ]
    },
    {
      "cell_type": "code",
      "execution_count": null,
      "metadata": {
        "collapsed": false
      },
      "outputs": [],
      "source": [
        "import pennylane as qml\nfrom pennylane.templates.state_preparations.mottonen import compute_theta, gray_code\nimport numpy as np\nimport matplotlib.pyplot as plt\n\nA = np.array([[-0.51192128, -0.51192128,  0.6237114 ,  0.6237114 ],\n              [ 0.97041007,  0.97041007,  0.99999329,  0.99999329],\n              [ 0.82429855,  0.82429855,  0.98175843,  0.98175843],\n              [ 0.99675093,  0.99675093,  0.83514837,  0.83514837]])"
      ]
    },
    {
      "cell_type": "markdown",
      "metadata": {},
      "source": [
        "We also compute the rotation angles.\n"
      ]
    },
    {
      "cell_type": "code",
      "execution_count": null,
      "metadata": {
        "collapsed": false
      },
      "outputs": [],
      "source": [
        "alphas = np.arccos(A).flatten()\nthetas = compute_theta(alphas)"
      ]
    },
    {
      "cell_type": "markdown",
      "metadata": {},
      "source": [
        "The next step is to identify and prepare the qubit registers used in the\noracle access framework. There are three registers `\"ancilla\"`,\n`\"wires_i\"`, `\"wires_j\"`. The `\"ancilla\"` register will always contain a\nsingle qubit, this is the auxilary qubit where we apply the rotation\ngates mentioned above. The `\"wires_i\"` and `\"wires_j\"` registers are the\nsame size for this algorithm and need to be able to encode $A$ itself,\nso they will both have $2$ qubits for our matrix.\n"
      ]
    },
    {
      "cell_type": "code",
      "execution_count": null,
      "metadata": {
        "collapsed": false
      },
      "outputs": [],
      "source": [
        "ancilla_wires = [\"ancilla\"]\n\ns = int(np.log2(A.shape[0]))\nwires_i = [f\"i{index}\" for index in range(s)]\nwires_j = [f\"j{index}\" for index in range(s)]"
      ]
    },
    {
      "cell_type": "markdown",
      "metadata": {},
      "source": [
        "Finally, we obtain the control wires for the C-NOT gates and a wire map\nthat we later use to translate the control wires into the wire registers\nwe prepared.\n"
      ]
    },
    {
      "cell_type": "code",
      "execution_count": null,
      "metadata": {
        "collapsed": false
      },
      "outputs": [],
      "source": [
        "code = gray_code(2*np.sqrt(len(A)))\nn_selections = len(code)\n\ncontrol_wires = [int(np.log2(int(code[i], 2) ^ int(code[(i + 1) %\n                 n_selections], 2))) for i in range(n_selections)]\n\nwire_map = {control_index : wire for control_index, wire in enumerate(wires_j + wires_i)}"
      ]
    },
    {
      "cell_type": "markdown",
      "metadata": {},
      "source": [
        "We now construct the $U_A$ and $U_B$ oracles as well as the operator\nrepresenting the tensor product of Hadamard gates.\n"
      ]
    },
    {
      "cell_type": "code",
      "execution_count": null,
      "metadata": {
        "collapsed": false
      },
      "outputs": [],
      "source": [
        "def UA(thetas, control_wires, ancilla):\n    for theta, control_index in zip(thetas, control_wires):\n        qml.RY(2 * theta, wires=ancilla)\n        qml.CNOT(wires=[wire_map[control_index]] + ancilla)\n\n\ndef UB(wires_i, wires_j):\n    for w_i, w_j in zip(wires_i, wires_j):\n        qml.SWAP(wires=[w_i, w_j])\n\n\ndef HN(input_wires):\n    for w in input_wires:\n        qml.Hadamard(wires=w)"
      ]
    },
    {
      "cell_type": "markdown",
      "metadata": {},
      "source": [
        "We construct the circuit using these oracles and draw it.\n"
      ]
    },
    {
      "cell_type": "code",
      "execution_count": null,
      "metadata": {
        "collapsed": false
      },
      "outputs": [],
      "source": [
        "dev = qml.device('default.qubit', wires=ancilla_wires + wires_i + wires_j)\n@qml.qnode(dev)\ndef circuit():\n    HN(wires_i)\n    qml.Barrier()  # to separate the sections in the circuit\n    UA(thetas, control_wires, ancilla_wires)\n    qml.Barrier()\n    UB(wires_i, wires_j)\n    qml.Barrier()\n    HN(wires_i)\n    return qml.probs(wires=ancilla_wires + wires_i)\n\nqml.draw_mpl(circuit, style='pennylane')()\nplt.show()"
      ]
    },
    {
      "cell_type": "markdown",
      "metadata": {},
      "source": [
        "Finally, we compute the matrix representation of the circuit and print\nits top-left block to compare it with the original matrix.\n"
      ]
    },
    {
      "cell_type": "code",
      "execution_count": null,
      "metadata": {
        "collapsed": false
      },
      "outputs": [],
      "source": [
        "print(f\"Original matrix:\\n{A}\", \"\\n\")\nwire_order = ancilla_wires + wires_i[::-1] + wires_j[::-1]\nM = len(A) * qml.matrix(circuit, wire_order=wire_order)().real[0:len(A),0:len(A)]\nprint(f\"Block-encoded matrix:\\n{M}\", \"\\n\")"
      ]
    },
    {
      "cell_type": "markdown",
      "metadata": {},
      "source": [
        "You can easily confirm that the circuit block encodes the original\nmatrix defined above. Note that the dimension of $A$ should be $2^n$\nwhere $n$ is an integer. For matrices with an arbitrary size, we can add\nzeros to reach the correct dimension.\n\nThe interesting point about the FABLE method is that we can eliminate\nthose rotation gates that have an angle smaller than a defined\nthreshold. This leaves a sequence of C-NOT gates that in most cases\ncancel each other out. You can confirm that two C-NOT gates applied to\nthe same wires cancel each other. Let\\'s now remove all the rotation\ngates that have an angle smaller than $0.01$ and draw the circuit.\n"
      ]
    },
    {
      "cell_type": "code",
      "execution_count": null,
      "metadata": {
        "collapsed": false
      },
      "outputs": [],
      "source": [
        "tolerance= 0.01\n\ndef UA(thetas, control_wires, ancilla):\n    for theta, control_index in zip(thetas, control_wires):\n        if abs(2 * theta)>tolerance:\n            qml.RY(2 * theta, wires=ancilla)\n        qml.CNOT(wires=[wire_map[control_index]] + ancilla)\n\nqml.draw_mpl(circuit, style='pennylane')()\nplt.show()"
      ]
    },
    {
      "cell_type": "markdown",
      "metadata": {},
      "source": [
        "Compressing the circuit by removing some of the rotations is an\napproximation. We can now remove the C-NOT gates that cancel each other\nout and see how good this approximation is in the case of our example.\nWe will make a small modification to $U_A$ so that it removes those\nC-NOT gates that cancel each other out.\n"
      ]
    },
    {
      "cell_type": "code",
      "execution_count": null,
      "metadata": {
        "collapsed": false
      },
      "outputs": [],
      "source": [
        "def UA(thetas, control_wires, ancilla):\n    nots=[]\n    for theta, control_index in zip(thetas, control_wires):\n        if abs(2 * theta) > tolerance:\n            for c_wire in nots:\n                qml.CNOT(wires=[c_wire] + ancilla)\n            qml.RY(2 * theta,wires=ancilla)\n            nots=[]\n        if (cw := wire_map[control_index]) in nots:\n            del(nots[nots.index(cw)])\n        else:\n            nots.append(wire_map[control_index])\n    for c_wire in nots:\n        qml.CNOT([c_wire] + ancilla)\n\nqml.draw_mpl(circuit, style='pennylane')()\nplt.show()\n\nprint(f\"Original matrix:\\n{A}\", \"\\n\")\nwire_order = ancilla_wires + wires_i[::-1] + wires_j[::-1] \nM = len(A) * qml.matrix(circuit,wire_order=wire_order)().real[0:len(A),0:len(A)]\nprint(f\"Block-encoded matrix:\\n{M}\", \"\\n\")"
      ]
    },
    {
      "cell_type": "markdown",
      "metadata": {},
      "source": [
        "You can see that the compressed circuit is equivalent to the original\ncircuit. This happens because our original matrix is highly structured\nand many of the rotation angles are zero. However, this is not always\ntrue for an arbitrary matrix. Can you construct another matrix that\nallows a significant compression of the block encoding circuit without\naffecting the accuracy?\n\nBlock encoding sparse matrices\n==============================\n\nThe quantum circuit for the oracle $U_A$, presented above, accesses\nevery entry of $A$ and thus requires $~ O(N^2)$ gates to implement the\noracle. In the special cases where $A$ is structured and sparse, we can\ngenerate a more efficient quantum circuit representation for $U_A$ and\n$U_B$ by only keeping track of the non-zero entries of the matrix.\n\nLet $b(i,j)$ be a function such that it takes a column index $j$ and\nreturns the row index for the $i^{th}$ non-zero entry in that column of\n$A$. Note, in this formulation, the $|i\\rangle$ qubit register now\nrefers to the number of non-zero entries in $A$. For sparse matrices,\nthis can be much smaller than $N$, thus saving us many qubits. We use\nthis to define $U_A$ and $U_B$.\n\nLike in the structured approach, the $U_A$ oracle is responsible for\nencoding the matrix entries of $A$ into the amplitude of the ancilla\nqubit. However, we now use $b(i,j)$ to access the row index of the\nnon-zero entries:\n\n$$U_A |0\\rangle_{\\text{anc}} |i\\rangle |j\\rangle = |A_{b(i,j),j}\\rangle_{\\text{anc}} |i\\rangle |j\\rangle,$$\n\nIn this case the $U_B$ oracle is responsible for implementing the\n$b(i,j)$ function and taking us from the column index to the row index\nin the qubit register:\n\n$$U_B |i\\rangle|j\\rangle \\ = \\ |i\\rangle |b(i,j)\\rangle$$\n\nLet\\'s work through an example. Consider the sparse matrix given by:\n\n$$\\begin{aligned}\nA = \\begin{bmatrix}\n\\alpha & \\gamma & 0 & \\dots & \\beta\\\\\n\\beta & \\alpha & \\gamma & \\ddots & 0 \\\\\n0 & \\beta & \\alpha & \\gamma \\ddots & 0\\\\\n0 & \\ddots & \\beta & \\alpha & \\gamma\\\\\n\\gamma & 0 & \\dots & \\beta & \\alpha \\\\\n\\end{bmatrix},\n\\end{aligned}$$\n\nwhere $\\alpha$, $\\beta$ and $\\gamma$ are real numbers. The following\ncode block prepares the matrix representation of $A$ for an $8 \\times 8$\nsparse matrix.\n"
      ]
    },
    {
      "cell_type": "code",
      "execution_count": null,
      "metadata": {
        "collapsed": false
      },
      "outputs": [],
      "source": [
        "alpha, beta, gamma  = 0.1, 0.6, 0.3\n\nA = np.array([[alpha, gamma,     0,     0,     0,     0,     0,  beta],\n              [ beta, alpha, gamma,     0,     0,     0,     0,     0],\n              [    0,  beta, alpha, gamma,     0,     0,     0,     0],\n              [    0,     0,  beta, alpha, gamma,     0,     0,     0],\n              [    0,     0,     0,  beta, alpha, gamma,     0,     0],\n              [    0,     0,     0,     0,  beta, alpha, gamma,     0],\n              [    0,     0,     0,     0,     0,  beta, alpha, gamma],\n              [gamma,     0,     0,     0,     0,     0,  beta, alpha]])\n\nprint(f\"Original A:\\n{A}\", \"\\n\")"
      ]
    },
    {
      "cell_type": "markdown",
      "metadata": {},
      "source": [
        "Once again we identify and prepare the qubit registers used in the\noracle access framework.\n\nThe `\"ancilla\"` register will still contain a single qubit, the target\nfor the controlled rotation gates. The `\"wires_i\"` register needs to be\nlarge enough to binary encode the maximum number of non-zero entries in\nany column or row. Given the structure of $A$ defined above, we have at\nmost 3 non-zero entries, thus this register will have 2 qubits. Finally,\nthe `\"wires_j\"` register will be used to encode $A$ itself, so it will\nhave 3 qubits. We prepare the wires below:\n"
      ]
    },
    {
      "cell_type": "code",
      "execution_count": null,
      "metadata": {
        "collapsed": false
      },
      "outputs": [],
      "source": [
        "s = int(np.log2(A.shape[0]))  # number of qubits needed to encode A\n\nancilla_wires = [\"ancilla\"]   # always 1 qubit for controlled rotations\nwires_i = [\"i0\", \"i1\"]        # depends on the sparse structure of A\nwires_j = [f\"j{index}\" for index in range(s)]  # depends on the size of A"
      ]
    },
    {
      "cell_type": "markdown",
      "metadata": {},
      "source": [
        "The $U_A$ oracle for this matrix is constructed from controlled rotation\ngates, similar to the FABLE circuit.\n"
      ]
    },
    {
      "cell_type": "code",
      "execution_count": null,
      "metadata": {
        "collapsed": false
      },
      "outputs": [],
      "source": [
        "def UA(theta, wire_i, ancilla):\n    qml.ctrl(qml.RY, control=wire_i, control_values=[0, 0])(theta[0], wires=ancilla)\n    qml.ctrl(qml.RY, control=wire_i, control_values=[1, 0])(theta[1], wires=ancilla)\n    qml.ctrl(qml.RY, control=wire_i, control_values=[0, 1])(theta[2], wires=ancilla)"
      ]
    },
    {
      "cell_type": "markdown",
      "metadata": {},
      "source": [
        "The $U_B$ oracle is defined in terms of the so-called `Left` and `Right`\nshift operators. They correspond to the modular arithmetic operations\n$+1$ or $-1$ respectively.\n"
      ]
    },
    {
      "cell_type": "code",
      "execution_count": null,
      "metadata": {
        "collapsed": false
      },
      "outputs": [],
      "source": [
        "def shift_op(s_wires, shift=\"Left\"):        \n    for index in range(len(s_wires)-1, 0, -1):\n        control_values = [1] * index if shift == \"Left\" else [0] * index\n        qml.ctrl(qml.PauliX, control=s_wires[:index], control_values=control_values)(wires=s_wires[index])\n    qml.PauliX(s_wires[0])\n\n\ndef UB(wires_i, wires_j):\n    qml.ctrl(shift_op, control=wires_i[0])(wires_j, shift=\"Left\")\n    qml.ctrl(shift_op, control=wires_i[1])(wires_j, shift=\"Right\")"
      ]
    },
    {
      "cell_type": "markdown",
      "metadata": {},
      "source": [
        "We now construct our circuit to block encode the sparse matrix and draw\nit.\n"
      ]
    },
    {
      "cell_type": "code",
      "execution_count": null,
      "metadata": {
        "collapsed": false
      },
      "outputs": [],
      "source": [
        "dev = qml.device(\"default.qubit\", wires=(ancilla_wires + wires_i + wires_j))\n\n@qml.qnode(dev)\ndef complete_circuit(thetas):\n    HN(wires_i)\n    qml.Barrier() # to separate the sections in the circuit\n    UA(thetas, wires_i, ancilla_wires)\n    qml.Barrier()\n    UB(wires_i, wires_j)\n    qml.Barrier()\n    HN(wires_i)\n    return qml.probs(wires=ancilla_wires + wires_i)\n\ns = 4  # normalization constant\nthetas = 2 * np.arccos(np.array([alpha - 1, beta, gamma]))\n\nqml.draw_mpl(complete_circuit, style='pennylane')(thetas)\nplt.show()"
      ]
    },
    {
      "cell_type": "markdown",
      "metadata": {},
      "source": [
        "Finally, we compute the matrix representation of the circuit and print\nits top-left block to compare it with the original matrix.\n"
      ]
    },
    {
      "cell_type": "code",
      "execution_count": null,
      "metadata": {
        "collapsed": false
      },
      "outputs": [],
      "source": [
        "print(\"\\nBlockEncoded Mat:\")\nwire_order = ancilla_wires + wires_i[::-1] + wires_j[::-1] \nmat = qml.matrix(complete_circuit, wire_order=wire_order)(thetas).real[:len(A), :len(A)] * s\nprint(mat, \"\\n\")"
      ]
    },
    {
      "cell_type": "markdown",
      "metadata": {},
      "source": [
        "You can confirm that the circuit block encodes the original sparse\nmatrix defined above. Note that if we wanted to increase the dimension\nof $A$ (for example $16 \\times 16$), then we need only to add more wires\nto the `j` register in the device and in `UB`.\n\nConclusion\n==========\n\nBlock encoding is a powerful technique in quantum computing that allows\nus to implement a non-unitary operation in a quantum circuit by\nembedding the operation in a larger unitary gate. In this tutorial, we\nreviewed two important block encoding methods with code examples using\nPennyLane. This allows you to use PennyLane to explore and benchmark\nseveral block encoding approaches for a desired problem. The efficiency\nof the block encoding methods typically depends on the sparsity and\nstructure of the original matrix. We hope that you can use these tips\nand tricks to find a more efficient block encoding for your matrix!\n\nReferences\n==========\n"
      ]
    },
    {
      "cell_type": "markdown",
      "metadata": {},
      "source": [
        "About the author\n================\n"
      ]
    }
  ],
  "metadata": {
    "kernelspec": {
      "display_name": "Python 3",
      "language": "python",
      "name": "python3"
    },
    "language_info": {
      "codemirror_mode": {
        "name": "ipython",
        "version": 3
      },
      "file_extension": ".py",
      "mimetype": "text/x-python",
      "name": "python",
      "nbconvert_exporter": "python",
      "pygments_lexer": "ipython3",
      "version": "3.10.13"
    }
  },
  "nbformat": 4,
  "nbformat_minor": 0
}