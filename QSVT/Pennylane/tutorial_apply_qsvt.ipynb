{
  "cells": [
    {
      "cell_type": "code",
      "execution_count": null,
      "metadata": {
        "collapsed": false
      },
      "outputs": [],
      "source": [
        "# This cell is added by sphinx-gallery\n# It can be customized to whatever you like\n%matplotlib inline"
      ]
    },
    {
      "cell_type": "markdown",
      "metadata": {},
      "source": [
        "QSVT in Practice\n================\n\n::: {.meta}\n:property=\\\"og:description\\\": Quantum Singular Value Transformation\nalgorithm :property=\\\"og:image\\\":\n<https://pennylane.ai/qml/_static/demonstration_assets//thumbnail_intro_qsvt.png>\n:::\n\n::: {.related}\ntutorial\\_intro\\_qsvt Intro to QSVT function\\_fitting\\_qsp Function\nFitting using Quantum Signal Processing\n:::\n\n*Authors: Jay Soni, Jarrett Smalley \\[Rolls-Royce\\] --- Posted: 22\nAugust 2023.*\n\nThe Quantum Singular Value Transformation (QSVT) is a quantum algorithm\nthat allows us to apply arbitrary polynomial transformations to the\nsingular values of a matrix. This demo, written in collaboration between\nXanadu and Rolls-Royce, provides a practical guide for the QSVT\nfunctionality in PennyLane, by solving a linear system of equations\n(LSE) as a guiding example.\n\n| \n\n![](../_static/demonstration_assets/apply_qsvt/thumbnail_tutorial_QSVT_for_Matrix_Inversion.png){.align-center\nwidth=\"50.0%\"}\n\n| \n\nPreliminaries\n-------------\n\nFor a refresher on the basics of QSVT check out our\n`Intro to QSVT </demos/tutorial_intro_qsvt>`{.interpreted-text\nrole=\"doc\"} tutorial. Let\\'s recall how to apply QSVT in a circuit. This\nrequires two pieces of information as input: the matrix to be\ntransformed and a set of phase angles which determine the polynomial\ntransformation. For now, we use placeholder values for the phase angles;\nwe\\'ll later describe how to obtain them. The code below shows how to\nconstruct a basic QSVT circuit on two qubits:\n"
      ]
    },
    {
      "cell_type": "code",
      "execution_count": null,
      "metadata": {
        "collapsed": false
      },
      "outputs": [],
      "source": [
        "import pennylane as qml\nfrom pennylane import numpy as np\n\ndev = qml.device(\"default.qubit\", wires=[0, 1])\n\nA = np.array([[0.1, 0.2], [0.3, 0.4]])\nphase_angles = np.array([0.0, 1.0, 2.0, 3.0])\n\n\n@qml.qnode(dev)\ndef my_circuit(phase_angles):\n    qml.qsvt(A, phase_angles, wires=[0, 1])\n    return qml.state()"
      ]
    },
    {
      "cell_type": "markdown",
      "metadata": {},
      "source": [
        "We can now execute the circuit and visualize it.\n"
      ]
    },
    {
      "cell_type": "code",
      "execution_count": null,
      "metadata": {
        "collapsed": false
      },
      "outputs": [],
      "source": [
        "my_circuit(phase_angles)\nprint(qml.draw(my_circuit)(phase_angles))"
      ]
    },
    {
      "cell_type": "markdown",
      "metadata": {},
      "source": [
        "We can inspect details by drawing the expanded circuit. The\n`~.pennylane.QSVT`{.interpreted-text role=\"class\"} operation is composed\nof repeated applications of the\n`~.pennylane.BlockEncode`{.interpreted-text role=\"class\"} and\n`~.pennylane.PCPhase`{.interpreted-text role=\"class\"} ($\\Pi_{\\phi}$)\noperations.\n"
      ]
    },
    {
      "cell_type": "code",
      "execution_count": null,
      "metadata": {
        "collapsed": false
      },
      "outputs": [],
      "source": [
        "print(my_circuit.tape.expand().draw())"
      ]
    },
    {
      "cell_type": "markdown",
      "metadata": {},
      "source": [
        "Now let\\'s look at an application of QSVT \\-\\-- solving a linear system\nof equations.\n\nProblem\n=======\n\nThe most convenient way to represent a linear system of equations is as\na matrix vector problem. Given a matrix $A$ and a vector $\\vec{b}$, we\nwant to solve $A \\cdot \\vec{x} = \\vec{b}$. This ultimately requires\ncomputing $\\vec{x} = A^{-1} \\cdot \\vec{b}$, where for simplicity we\nassume that $A$ is invertible.\n\n$A^{-1}$ can be constructed directly by inverting the singular values of\n$A^{T}$. We can leverage QSVT to accomplish this by finding the phase\nangles which apply a polynomial approximation to the transformation\n$\\frac{1}{x}$. This may seem simple in theory, but in practice there are\na few technical details that need to be addressed.\n\nFirst, it is difficult to approximate $\\frac{1}{x}$ close to $x=0$. This\nleads to large degree polynomials and very deep quantum circuits.\nHowever, it turns out that we only need a good approximation up to the\nsmallest singular value of the target matrix. We introduce the parameter\n$\\kappa$ that defines the domain $[\\frac{1}{\\kappa}, 1]$ for which the\napproximation should be good.\n\nSecond, the QSVT algorithm produces polynomials which are bounded in\nmagnitude by one on the domain $x \\in [-1, 1]$. However, $\\frac{1}{x}$\nfalls outside the bounds on this domain. To remedy this, we introduce a\nscale factor $s$ and approximate $s \\cdot \\frac{1}{x}$.\n\nObtaining Phase Angles\n======================\n\nThe QSVT phase angles $\\vec{\\phi}$ define the polynomial transformation.\nHere we describe two approaches to obtain the phase angles:\n\n1.  Using external packages that provide numerical angle solvers\n    ([pyqsp](https://github.com/ichuang/pyqsp)).\n2.  Using PennyLane\\'s differentiable workflow to optimize the phase\n    angles.\n\nLet\\'s use both methods to apply a polynomial transformation that\napproximates\n\n$$P(x) = s \\cdot \\frac{1}{x}.$$\n\nPhase Angles from PyQSP\n-----------------------\n\nThere are many numerical methods for computing the phase angles (see ,).\nThey can be readily used with PennyLane as long as the convention used\nto define the rotations matches the one used when applying QSVT. This is\nas simple as specifying the convention as a keyword argument to the\n`~.pennylane.qsvt()`{.interpreted-text role=\"func\"} function. We\ndemonstrate this by obtaining angles using the\n[pyqsp](https://github.com/ichuang/pyqsp) library.\n\nThe phase angles generated from pyqsp are presented below. A value of\n$\\kappa=4$ was used and the scale factor was extracted from the pyqsp\nmodule. Remember that the number of phase angles determines the degree\nof the polynomial approximation. Below we display the 44 angles which\nproduce a polynomial of degree 43.\n"
      ]
    },
    {
      "cell_type": "code",
      "execution_count": null,
      "metadata": {
        "collapsed": false
      },
      "outputs": [],
      "source": [
        "kappa = 4\ns = 0.10145775\nphi_pyqsp = [-2.287, 2.776, -1.163, 0.408, -0.16, -0.387, 0.385, -0.726, 0.456, 0.062, -0.468, 0.393, 0.028, -0.567, 0.76, -0.432, -0.011, 0.323, -0.573, 0.82, -1.096, 1.407, -1.735, 2.046, -2.321, 2.569, -2.819, -0.011, 2.71, -2.382, 2.574, 0.028, -2.749, 2.673, 0.062, -2.685, 2.416, 0.385, -0.387, -0.16, 0.408, -1.163, -0.365, 2.426]"
      ]
    },
    {
      "cell_type": "markdown",
      "metadata": {},
      "source": [
        "::: {.note}\n::: {.title}\nNote\n:::\n\nWe generated the angles using the following pyqsp functions. These\nmethods have a randomized component which results in slightly different\nphase angles each time producing the same transformation:\n\n``` {.bash}\n>>> pcoefs, s = pyqsp.poly.PolyOneOverX().generate(kappa, return_coef=True, ensure_bounded=True, return_scale=True)\n>>> phi_pyqsp = pyqsp.angle_sequence.QuantumSignalProcessingPhases(pcoefs, signal_operator=\"Wx\", tolerance=0.00001)\n```\n:::\n\nLet\\'s confirm that these angles perform the correct transformation. We\nuse the `~.pennylane.matrix()`{.interpreted-text role=\"func\"} function\nto obtain the output matrix of the QSVT circuit. The top-left entry is a\npolynomial approximation whose real component corresponds to our target\nfunction $P(x)$.\n"
      ]
    },
    {
      "cell_type": "code",
      "execution_count": null,
      "metadata": {
        "collapsed": false
      },
      "outputs": [],
      "source": [
        "x_vals = np.linspace(0, 1, 50)\ntarget_y_vals = [s * (1 / x) for x in np.linspace(s, 1, 50)]\n\nqsvt_y_vals = []\nfor x in x_vals:\n    poly_x = qml.matrix(qml.qsvt)(\n        x, phi_pyqsp, wires=[0], convention=\"Wx\"  # specify angles using convention=`Wx`\n    )\n    qsvt_y_vals.append(np.real(poly_x[0, 0]))"
      ]
    },
    {
      "cell_type": "markdown",
      "metadata": {},
      "source": [
        "We plot the target function and our approximation generated from QSVT.\n"
      ]
    },
    {
      "cell_type": "code",
      "execution_count": null,
      "metadata": {
        "collapsed": false
      },
      "outputs": [],
      "source": [
        "import matplotlib.pyplot as plt\n\nplt.plot(x_vals, np.array(qsvt_y_vals), label=\"Re(qsvt)\")\nplt.plot(np.linspace(s, 1, 50), target_y_vals, label=\"target\")\n\nplt.vlines(1 / kappa, -1.0, 1.0, linestyle=\"--\", color=\"grey\", label=\"1/kappa\")\nplt.vlines(0.0, -1.0, 1.0, color=\"black\")\nplt.hlines(0.0, -0.1, 1.0, color=\"black\")\n\nplt.legend()\nplt.show()"
      ]
    },
    {
      "cell_type": "markdown",
      "metadata": {},
      "source": [
        "Yay! We were able to get an approximation of the function\n$s \\cdot \\frac{1}{x}$ on the domain $[\\frac{1}{\\kappa}, 1]$.\n\nPhase Angles from Optimization\n==============================\n\nThe QSVT operation, like all other operations in PennyLane, is fully\ndifferentiable. We can take advantage of this as an alternate approach\nto obtaining the phase angles by using gradient-based optimization. This\nmethod is very versatile because we can use the target function directly\nto generate a polynomial approximation from QSVT.\n\nA single QSVT circuit will produce a transformation that has a fixed\nparity. We can be clever and get a better approximation by using a sum\nof an even and odd polynomial. This is achieved by using a simple linear\ncombination of unitaries ([LCU](https://codebook.xanadu.ai/H.6)). We\nfirst split the phase angles into two groups (even and odd parity).\nNext, an ancilla qubit is prepared in equal superposition. We apply each\nQSVT operation, even or odd, conditioned on the ancilla. Finally, the\nancilla qubit is reset.\n"
      ]
    },
    {
      "cell_type": "code",
      "execution_count": null,
      "metadata": {
        "collapsed": false
      },
      "outputs": [],
      "source": [
        "def sum_even_odd_circ(x, phi, ancilla_wire, wires):\n    phi1, phi2 = phi[: len(phi) // 2], phi[len(phi) // 2:]\n\n    qml.Hadamard(wires=ancilla_wire)  # equal superposition\n\n    # apply even and odd polynomial approx\n    qml.ctrl(qml.qsvt, control=(ancilla_wire,), control_values=(0,))(x, phi1, wires=wires)\n    qml.ctrl(qml.qsvt, control=(ancilla_wire,), control_values=(1,))(x, phi2, wires=wires)\n\n    qml.Hadamard(wires=ancilla_wire)  # un-prepare superposition"
      ]
    },
    {
      "cell_type": "markdown",
      "metadata": {},
      "source": [
        "We now randomly initialize a total of 51 phase angles. This implies that\nthe resulting transformation will be a sum of polynomials with degrees\n25 and 26, respectively.\n"
      ]
    },
    {
      "cell_type": "code",
      "execution_count": null,
      "metadata": {
        "collapsed": false
      },
      "outputs": [],
      "source": [
        "np.random.seed(42)  # set seed for reproducibility\nphi = np.random.rand(51)"
      ]
    },
    {
      "cell_type": "markdown",
      "metadata": {},
      "source": [
        "Next, we select a mean-squared error (MSE) loss function. The error is\ncomputed using samples from the domain $[\\frac{1}{\\kappa}, 1]$ where the\ntarget function is defined. Since the polynomial produced by the QSVT\ncircuit is complex valued, we compare its real value against our target\nfunction. We ignore the imaginary component for now.\n"
      ]
    },
    {
      "cell_type": "code",
      "execution_count": null,
      "metadata": {
        "collapsed": false
      },
      "outputs": [],
      "source": [
        "samples_x = np.linspace(1 / kappa, 1, 100)\n\ndef target_func(x):\n    return s * (1 / x)\n\ndef loss_func(phi):\n    sum_square_error = 0\n    for x in samples_x:\n        qsvt_matrix = qml.matrix(sum_even_odd_circ)(x, phi, ancilla_wire=\"ancilla\", wires=[0])\n        qsvt_val = qsvt_matrix[0, 0]\n        sum_square_error += (np.real(qsvt_val) - target_func(x)) ** 2\n\n    return sum_square_error / len(samples_x)"
      ]
    },
    {
      "cell_type": "markdown",
      "metadata": {},
      "source": [
        "Thanks to PennyLane\\'s fully differentiable workflow, we can execute the\noptimization in just a few lines of code:\n"
      ]
    },
    {
      "cell_type": "code",
      "execution_count": null,
      "metadata": {
        "collapsed": false
      },
      "outputs": [],
      "source": [
        "# Optimization:\ncost = 1\niter = 0\nopt = qml.AdagradOptimizer(0.1)\n\nwhile cost > 0.5e-4:\n    iter += 1\n    phi, cost = opt.step_and_cost(loss_func, phi)\n\n    if iter % 10 == 0 or iter == 1:\n        print(f\"iter: {iter}, cost: {cost}\")\n\n    if iter > 100:\n        print(\"Iteration limit reached!\")\n        break\n\nprint(f\"Completed Optimization! (final cost: {cost})\")"
      ]
    },
    {
      "cell_type": "markdown",
      "metadata": {},
      "source": [
        "Now we plot the results:\n"
      ]
    },
    {
      "cell_type": "code",
      "execution_count": null,
      "metadata": {
        "collapsed": false
      },
      "outputs": [],
      "source": [
        "samples_inv = np.linspace(s, 1, 50)\ninv_x = [target_func(x) for x in samples_inv]\n\nsamples_x = np.linspace(0, 1, 100)\nqsvt_y_vals = [\n    np.real(qml.matrix(sum_even_odd_circ)(x, phi, \"ancilla\", wires=[0])[0, 0])\n    for x in samples_x\n]\n\nplt.plot(samples_x, qsvt_y_vals, label=\"Re(qsvt)\")\nplt.plot(samples_inv, inv_x, label=\"target\")\n\nplt.vlines(1 / kappa, -1.0, 1.0, linestyle=\"--\", color=\"grey\", label=\"1/kappa\")\nplt.vlines(0.0, -1.0, 1.0, color=\"black\")\nplt.hlines(0.0, -0.1, 1.0, color=\"black\")\n\nplt.legend()\nplt.show()"
      ]
    },
    {
      "cell_type": "markdown",
      "metadata": {},
      "source": [
        "Awesome, we successfully optimized the phase angles! While we used a\nsimple loss function and optimizer, more sophisticated optimization\nschemes have been presented in literature to robustly train the phase\nangles for QSVT (see).\n\nLet $\\hat{U}_{qsvt}(\\vec{\\phi}, x)$ represent the unitary matrix of the\nQSVT algorithm. Both of the methods above produce phase angles\n$\\vec{\\phi}$ such that:\n\n$$Re[\\hat{U}_{qsvt}(\\vec{\\phi}, x)] \\approx P(x).$$\n\nIn general, the imaginary part of this transformation will not be zero.\nWe need an operator which only applies the real component. Note that we\ncan express the real part of a complex number $z$ as\n$Re[z] = \\frac{1}{2}(z + z^{*})$. Similarly, for operators this is given\nby:\n\n$$\\hat{U}_{real}(\\vec{\\phi}) = \\frac{1}{2} \\ ( \\hat{U}_{qsvt}(\\vec{\\phi}) + \\hat{U}^{*}_{qsvt}(\\vec{\\phi}) ).$$\n\nHere we use a two-term LCU to define the quantum function for this\noperator. We obtain the complex conjugate of $\\hat{U}_{qsvt}$ by taking\nthe adjoint of the operator block-encoding $A^{T}$:\n"
      ]
    },
    {
      "cell_type": "code",
      "execution_count": null,
      "metadata": {
        "collapsed": false
      },
      "outputs": [],
      "source": [
        "def real_u(A, phi):\n    qml.Hadamard(wires=\"ancilla1\")\n\n    qml.ctrl(sum_even_odd_circ, control=(\"ancilla1\",), control_values=(0,))(A, phi, \"ancilla2\", [0, 1, 2])\n    qml.ctrl(qml.adjoint(sum_even_odd_circ), control=(\"ancilla1\",), control_values=(1,))(A.T, phi, \"ancilla2\", [0, 1, 2])\n\n    qml.Hadamard(wires=\"ancilla1\")"
      ]
    },
    {
      "cell_type": "markdown",
      "metadata": {},
      "source": [
        "Let\\'s take everything we have learned and apply it to solve a linear\nsystem of equations.\n\nSolving a Linear System with QSVT\n=================================\n\nOur goal is to solve the equation $A \\cdot \\vec{x} = \\vec{b}$. This\nmethod assumes the matrix we will invert is hermitian. Let\\'s begin by\ndefining the specific matrix $A$ and vector $\\vec{b}$ :\n"
      ]
    },
    {
      "cell_type": "code",
      "execution_count": null,
      "metadata": {
        "collapsed": false
      },
      "outputs": [],
      "source": [
        "A = np.array(\n    [\n        [0.65713691, -0.05349524, 0.08024556, -0.07242864],\n        [-0.05349524, 0.65713691, -0.07242864, 0.08024556],\n        [0.08024556, -0.07242864, 0.65713691, -0.05349524],\n        [-0.07242864, 0.08024556, -0.05349524, 0.65713691],\n    ]\n)\n\nb = np.array([1, 2, 3, 4], dtype=\"complex\")\ntarget_x = np.linalg.inv(A) @ b  # true solution\n\n# Normalize states:\nnorm_b = np.linalg.norm(b)\nnormalized_b = b / norm_b\n\nnorm_x = np.linalg.norm(target_x)\nnormalized_x = target_x / norm_x"
      ]
    },
    {
      "cell_type": "markdown",
      "metadata": {},
      "source": [
        "To solve the linear system we construct a quantum circuit that first\nprepares the normalized vector $\\vec{b}$ in the working qubit register.\nNext we call the `real_u(A.T, phi)` function that we previously\nconstructed. This is equivalent to applying $s \\cdot A^{-1}$ to the\nprepared state. Finally, we return the state at the end of the circuit.\n\nThe subset of qubits which prepared the $\\vec{b}$ vector should be\ntransformed to represent $\\vec{x}$ (up to scaling factors):\n"
      ]
    },
    {
      "cell_type": "code",
      "execution_count": null,
      "metadata": {
        "collapsed": false
      },
      "outputs": [],
      "source": [
        "@qml.qnode(qml.device(\"default.qubit\", wires=[\"ancilla1\", \"ancilla2\", 0, 1, 2]))\ndef linear_system_solver_circuit(phi):\n    qml.StatePrep(normalized_b, wires=[1, 2])\n    real_u(A.T, phi)  # invert the singular values of A transpose to get A^-1\n    return qml.state()\n\n\ntransformed_state = linear_system_solver_circuit(phi)[:4]  # first 4 entries of the state\nrescaled_computed_x = transformed_state * norm_b / s\nnormalized_computed_x = rescaled_computed_x / np.linalg.norm(rescaled_computed_x)\n\nprint(\"target x:\", np.round(normalized_x, 3))\nprint(\"computed x:\", np.round(normalized_computed_x, 3))"
      ]
    },
    {
      "cell_type": "markdown",
      "metadata": {},
      "source": [
        "We have successfully solved the linear system \ud83c\udf89! Notice that the target\nstate and computed state agree well with only some slight deviations.\n\nConclusion\n==========\n\nIn this demo, we showcased the `~.pennylane.qsvt()`{.interpreted-text\nrole=\"func\"} functionality in PennyLane. We explained how to integrate\nphase angles computed with external packages and how to use PennyLane to\noptimize the phase angles directly. Finally, we described how to apply\nQSVT to solve an example linear system.\n\nWhile this demo covered simple example, the general problem of solving\nlinear systems of equations is often the bottleneck in many applications\nfrom regression analysis in financial modelling to simulating fluid\ndynamics for jet engine design. We hope that PennyLane can help you\nalong the way to your next big discovery in quantum algorithms.\n\nReferences\n==========\n"
      ]
    },
    {
      "cell_type": "markdown",
      "metadata": {},
      "source": [
        "About the author\n================\n"
      ]
    }
  ],
  "metadata": {
    "kernelspec": {
      "display_name": "Python 3",
      "language": "python",
      "name": "python3"
    },
    "language_info": {
      "codemirror_mode": {
        "name": "ipython",
        "version": 3
      },
      "file_extension": ".py",
      "mimetype": "text/x-python",
      "name": "python",
      "nbconvert_exporter": "python",
      "pygments_lexer": "ipython3",
      "version": "3.10.13"
    }
  },
  "nbformat": 4,
  "nbformat_minor": 0
}