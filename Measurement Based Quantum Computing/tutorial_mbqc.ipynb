{
  "cells": [
    {
      "cell_type": "code",
      "execution_count": null,
      "metadata": {
        "collapsed": false
      },
      "outputs": [],
      "source": [
        "# This cell is added by sphinx-gallery\n",
        "# It can be customized to whatever you like\n",
        "%matplotlib inline"
      ]
    },
    {
      "attachments": {},
      "cell_type": "markdown",
      "metadata": {},
      "source": [
        "Measurement-based quantum computation {#mbqc}\n",
        "\n",
        "----\n",
        "\n",
        "*Authors: Joost Bus and Radoica Draškić --- Posted: 05 December 2022.\n",
        "Last updated: 05 December 2022.*\n"
      ]
    },
    {
      "attachments": {},
      "cell_type": "markdown",
      "metadata": {},
      "source": [
        "**Measurement-based quantum computing (MBQC)**, also known as one-way\n",
        "quantum computing, is an inventive approach to quantum computing that\n",
        "makes use of *off-line* entanglement as a resource for computation. A\n",
        "one-way quantum computer starts out with an entangled state, a so-called\n",
        "*cluster state*, and applies particular single-qubit measurements that\n",
        "correspond to the desired quantum circuit. In this context, off-line\n",
        "means that the entanglement is created independently from the rest of\n",
        "the computation, like how a blank sheet of paper is made separately from\n",
        "the text of a book. Coming from the gate-based model, this method might\n",
        "seem unintuitive to you at first, but the approaches can be proven to be\n",
        "equally powerful. In MBQC, the measurements *are* the computation and\n",
        "the entanglement of the cluster state is used as a resource.\n",
        "\n",
        "The structure of this demo will be as follows. First, we introduce the\n",
        "concept of a cluster state, the substrate for measurement-based quantum\n",
        "computation. Then, we will move on to explain how to implement arbitrary\n",
        "quantum circuits, thus proving that MBQC is universal. Lastly, we will\n",
        "briefly touch upon how quantum error correction (QEC) is done in this\n",
        "scheme.\n",
        "\n",
        "Throughout this tutorial, we will explain the underlying concepts with\n",
        "the help of some code snippets using\n",
        "[PennyLane](https://pennylane.readthedocs.io/en/stable/). In the section\n",
        "about QEC, we will also use Xanadu\\'s quantum error correction\n",
        "simulation software\n",
        "[FlamingPy](https://flamingpy.readthedocs.io/en/latest/) developed by\n",
        "our architecture team.\n",
        "\n",
        "In MBQC, seeing is computing!\n",
        "\n",
        "![](.graphics/2023-05-02-18-36-13.png)\n"
      ]
    },
    {
      "attachments": {},
      "cell_type": "markdown",
      "metadata": {},
      "source": [
        "## Cluster states and graph states\n",
        "\n",
        "*Cluster states* are the universal substrate for measurement-based\n",
        "quantum computation . They are a special instance of *graph states*, a\n",
        "class of entangled multi-qubit states that can be represented by an\n",
        "undirected graph $G = (V,E)$ whose vertices $V$ are associated with\n",
        "qubits and the edges $E$ with entanglement between them. The associated\n",
        "quantum state reads as follows\n",
        "\n",
        "$$\n",
        "| \\Phi \\rangle = \\Pi_{(i, j) \\in E} \\, CZ_{ij}|+⟩^{\\otimes n}\n",
        "$$\n",
        "\n",
        "where $n$ is the number of qubits, $CZ_{ij}$ is the controlled-$Z$ gate\n",
        "between qubits $i$ and $j$, and\n",
        "$|+\\rangle = \\frac{1}{\\sqrt{2}} \\big( |0\\rangle + |1\\rangle \\big)$ is the\n",
        "$+1$ eigenstate of the Pauli-$X$ operator. The\n",
        "distinction between graph states and a cluster states is rather\n",
        "technical and details can be found in Ref. [21]. For now, suffice to say\n",
        "that cluster states are a subset of graph states with some additional\n",
        "conditions.\n",
        "\n",
        "We can also describe the creation of a cluster state in the gate-based\n",
        "model. Let us first define a graph we want to look at, and then\n",
        "construct a circuit in PennyLane to create the corresponding graph\n",
        "state.\n"
      ]
    },
    {
      "attachments": {},
      "cell_type": "markdown",
      "metadata": {},
      "source": [
        "TODO: Add the difference between graph states and cluster states. (From ref 21 maybe?)"
      ]
    },
    {
      "cell_type": "code",
      "execution_count": 1,
      "metadata": {
        "collapsed": false
      },
      "outputs": [
        {
          "data": {
            "image/png": "[encoded data removed]",
            "text/plain": [
              "<Figure size 500x100 with 1 Axes>"
            ]
          },
          "metadata": {},
          "output_type": "display_data"
        }
      ],
      "source": [
        "import networkx as nx\n",
        "import matplotlib.pyplot as plt\n",
        "\n",
        "a, b = 1, 5  # dimensions of the graph (lattice)\n",
        "G = nx.grid_graph(dim=[a, b])  # there are a * b qubits\n",
        "\n",
        "plt.figure(figsize=(5, 1))\n",
        "nx.draw(G, pos={node: node for node in G}, node_size=500, node_color=\"black\")"
      ]
    },
    {
      "cell_type": "markdown",
      "metadata": {},
      "source": [
        "This is a fairly simple cluster state, but we will later see how even\n",
        "this simple graph is useful for logical operations. Now that we have\n",
        "defined a graph, we can go ahead and define a circuit to prepare the\n",
        "cluster state.\n"
      ]
    },
    {
      "cell_type": "code",
      "execution_count": 2,
      "metadata": {},
      "outputs": [],
      "source": [
        "import pennylane as qml\n",
        "\n",
        "qubits = [str(node) for node in G.nodes]\n",
        "dev = qml.device(\"default.qubit\", wires=qubits)"
      ]
    },
    {
      "cell_type": "code",
      "execution_count": 3,
      "metadata": {},
      "outputs": [
        {
          "data": {
            "text/plain": [
              "['(0, 0)', '(1, 0)', '(2, 0)', '(3, 0)', '(4, 0)']"
            ]
          },
          "execution_count": 3,
          "metadata": {},
          "output_type": "execute_result"
        }
      ],
      "source": [
        "qubits"
      ]
    },
    {
      "cell_type": "code",
      "execution_count": 7,
      "metadata": {
        "collapsed": false
      },
      "outputs": [
        {
          "name": "stdout",
          "output_type": "stream",
          "text": [
            "(<Figure size 800x600 with 1 Axes>, <Axes: >)\n"
          ]
        },
        {
          "data": {
            "image/png": "[encoded data removed]",
            "text/plain": [
              "<Figure size 800x600 with 1 Axes>"
            ]
          },
          "metadata": {},
          "output_type": "display_data"
        }
      ],
      "source": [
        "@qml.qnode(dev, interface=\"autograd\")\n",
        "def cluster_state():\n",
        "    for node in qubits:\n",
        "        qml.Hadamard(wires=[node])\n",
        "\n",
        "    for edge in G.edges:\n",
        "        i, j = edge\n",
        "        qml.CZ(wires=[str(i), str(j)])\n",
        "\n",
        "    return qml.state()\n",
        "\n",
        "\n",
        "print(qml.draw_mpl(cluster_state, output=\"mpl\")())"
      ]
    },
    {
      "cell_type": "markdown",
      "metadata": {},
      "source": [
        "Observe that the structure of the circuit is fairly simple. It only\n",
        "requires Hadamard gates on each qubit and then a controlled-$Z$ gate\n",
        "between connected qubits. This part of the computation is not actually\n",
        "computing anything. In fact, aside from the width and depth of the\n",
        "desired quantum circuit, the cluster state generation is essentially\n",
        "independent of the calculation. If you have a reliable way of applying\n",
        "these two operations (Hadamard and controlled-$Z$), you are ready for\n",
        "the next step: worrying about conditional single-qubit measurements.\n"
      ]
    },
    {
      "attachments": {},
      "cell_type": "markdown",
      "metadata": {},
      "source": [
        "## Information propagation and teleportation\n",
        "\n",
        "Measurement-based quantum computation heavily relies on the idea of\n",
        "information propagation. In particular, we make use of a protocol called\n",
        "*quantum teleportation*, one of the driving concepts behind MBQC.\n",
        "Despite its Sci-Fi name, quantum teleportation is very real and has been\n",
        "experimentally demonstrated multiple times in the last few decades ,,,.\n",
        "Moreover, it has related applications in safe communication protocols\n",
        "that are impossible with classical communication so it\\'s certainly\n",
        "worth learning about. In this protocol, we transport *information*, not\n",
        "matter, between systems. Admittedly, it has a somewhat misleading name\n",
        "because it is not instantaneous: it requires communication of additional\n",
        "classical information, which is still limited by the speed of light.\n",
        "\n",
        "### One-qubit Teleportation \n",
        "Let's take a deeper look at the\n",
        "principles behind quantum teleportation using a simple example of\n",
        "one-qubit teleportation. We start with one qubit in the state\n",
        "$\\ket{\\psi}$ that we want to transfer to the second\n",
        "qubit initially in the state $|0\\rangle$. The figure below represents\n",
        "the protocol. The green box represents the creation of a cluster state,\n",
        "while the red box represents the measurement of a qubit with the\n",
        "appropriate correction applied to the second qubit based on the\n",
        "measurement outcome.\n",
        "\n",
        "![](.graphics/2023-05-02-18-37-05.png)\n",
        "\n",
        "Let\\'s implement one-qubit teleportation in PennyLane.\n"
      ]
    },
    {
      "cell_type": "code",
      "execution_count": 8,
      "metadata": {
        "collapsed": false
      },
      "outputs": [],
      "source": [
        "import pennylane as qml\n",
        "import pennylane.numpy as np\n",
        "\n",
        "dev = qml.device(\"default.qubit\", wires=2)\n",
        "\n",
        "\n",
        "@qml.qnode(dev, interface=\"autograd\")\n",
        "def one_bit_teleportation(input_state):\n",
        "    # Prepare the input state from the incoming array of amplitude values\n",
        "    qml.QubitStateVector(input_state, wires=0)\n",
        "\n",
        "    # Prepare the cluster state for doing MBQC\n",
        "    qml.Hadamard(wires=1)\n",
        "    qml.CZ(wires=[0, 1])\n",
        "\n",
        "    # Measure the first qubit in the Pauli-X basis\n",
        "    # and apply an X-gate conditioned on the outcome\n",
        "    qml.Hadamard(wires=0)\n",
        "    m = qml.measure(wires=[0])\n",
        "    qml.cond(m == 1, qml.PauliX)(wires=1)\n",
        "    qml.Hadamard(wires=1)\n",
        "\n",
        "    # Return the density matrix of the output state\n",
        "    return qml.density_matrix(wires=[1])"
      ]
    },
    {
      "cell_type": "markdown",
      "metadata": {},
      "source": [
        "Note that we return a [density\n",
        "matrix](https://en.wikipedia.org/wiki/Density_matrix) in the function\n",
        "above. This allows for us to describe operations beyond unitaries, such\n",
        "as the teleportation protocol.\n",
        "\n",
        "Now, let\\'s prepare a random qubit state and see if the teleportation\n",
        "protocol is working as expected. To do so, we\\'ll generate a random\n",
        "normalized state $|\\psi\\rangle = \\alpha |0\\rangle + \\beta |1\\rangle$ and\n",
        "apply the teleportation protocol to see if the resulting density matrix\n",
        "describing the second qubit is the same as our input state\n",
        "$|\\psi\\rangle$.\n"
      ]
    },
    {
      "cell_type": "code",
      "execution_count": 15,
      "metadata": {},
      "outputs": [],
      "source": [
        "def ket_bra(ket: np.array):\n",
        "    \"\"\"Computes the outer product of a ket vector with itself.\"\"\"\n",
        "    return np.outer(ket, np.conj(ket))\n",
        "\n",
        "# Define helper function for random input state on n qubits\n",
        "def generate_random_state(n=1):\n",
        "    input_state = (1 + 1j) * np.random.random(2 ** n)\n",
        "    return input_state / np.linalg.norm(input_state)"
      ]
    },
    {
      "cell_type": "code",
      "execution_count": 16,
      "metadata": {
        "collapsed": false
      },
      "outputs": [
        {
          "data": {
            "text/plain": [
              "True"
            ]
          },
          "execution_count": 16,
          "metadata": {},
          "output_type": "execute_result"
        }
      ],
      "source": [
        "# Generate a random input state |psi> for n=1 qubit\n",
        "input_state = generate_random_state()\n",
        "\n",
        "density_matrix = ket_bra(input_state)\n",
        "density_matrix_mbqc = one_bit_teleportation(input_state)\n",
        "\n",
        "np.allclose(density_matrix, density_matrix_mbqc)"
      ]
    },
    {
      "cell_type": "markdown",
      "metadata": {},
      "source": [
        "As we can see, $|\\psi\\rangle$, originally the state of the first qubit,\n",
        "has been transported to the second qubit!\n",
        "\n",
        "This protocol is one of the main ingredients of one-way quantum\n",
        "computing. Essentially, we propagate the information in one end of our\n",
        "cluster state to the other end through successive teleportations. In\n",
        "addition, we can \\\"write\\\" our circuit onto the cluster state by\n",
        "choosing the measurements adaptively. In the next section, we will see\n",
        "how we can actually do this.\n"
      ]
    },
    {
      "cell_type": "markdown",
      "metadata": {},
      "source": [
        "Universality of MBQC\n",
        "====================\n",
        "\n",
        "How do we know if this measurement-based scheme is just as powerful as\n",
        "its gate-based counterpart? We have to prove it! In particular, we want\n",
        "to show that a measurement-based quantum computer is a [quantum Turing\n",
        "machine (QTM)](https://en.wikipedia.org/wiki/Quantum_Turing_machine). To\n",
        "do this, we need to show 4 things:\n",
        "\n",
        "1.  How **information propagates** through the cluster state.\n",
        "2.  How arbitrary **single-qubit rotations** can be implemented.\n",
        "3.  How a **two-qubit gate** can be implemented in this scheme.\n",
        "4.  How to implement **arbitrary quantum circuits**.\n",
        "\n",
        "In the previous section, we have already seen how the quantum\n",
        "information propagates from one side of the cluster to the other. In\n",
        "this section, we will tackle the remaining parts concerning logical\n",
        "operations. Throughout, we will assume the ability to measure in\n",
        "arbitrary bases.\n"
      ]
    },
    {
      "cell_type": "markdown",
      "metadata": {},
      "source": [
        "Single-qubit rotations\n",
        "======================\n",
        "\n",
        "Arbitrary single-qubit rotations are essential operations for a\n",
        "universal quantum computer. In MBQC, we can implement these rotations by\n",
        "using the entanglement of the cluster state. Any single-qubit gate can\n",
        "be represented as a composition of three rotations along two different\n",
        "axes, for example\n",
        "$U(\\alpha, \\beta, \\gamma) = R_x(\\gamma)R_z(\\beta)R_x(\\alpha)$ where\n",
        "$R_x$ and $R_z$ represent rotations around the $X$ and $Z$ axis,\n",
        "respectively.\n",
        "\n",
        "We will see that in our measurement-based scheme, this operation can be\n",
        "implemented using a linear chain of 5 qubits prepared in a cluster\n",
        "state, as shown in the figure below. The first qubit $t_\\mathrm{in}$ is\n",
        "prepared in some input state $|\\psi_\\mathrm{in}\\rangle$, and we are\n",
        "interested in the final state of the output qubit $t_\\mathrm{out}$.\n",
        "\n",
        "![..](../demonstrations/mbqc/single-qubit-rotation.png){.align-center\n",
        "width=\"75.0%\"}\n",
        "\n",
        "The input qubit $t_\\mathrm{in}$, together with the intermediate qubits\n",
        "$a_1$, $a_2$, and $a_3$ are then measured in the bases\n",
        "\n",
        "$$\\mathcal{B}_j(\\theta_j) \\equiv \\left\\{\\frac{|0\\rangle + e^{i\\theta_j}|1\\rangle}{\\sqrt{2}},\n",
        "\\frac{|0\\rangle - e^{i\\theta_j}|1\\rangle}{\\sqrt{2}}\\right\\},$$\n",
        "\n",
        "where the angles $\\theta_j$ depend on prior measurement outcomes and are\n",
        "given by\n",
        "\n",
        "$$\\theta_{\\mathrm{in}} = 0, \\qquad \\theta_{1} = (-1)^{m_{\\mathrm{in}} + 1} \\alpha, \\qquad\n",
        "\\theta_{2} = (-1)^{m_1} \\beta, \\quad \\text{and} \\quad \\theta_{3} = (-1)^{m_{\\mathrm{in}} + m_2} \\gamma$$\n",
        "\n",
        "with $m_{\\mathrm{in}}, m_1, m_2 \\in \\{0, 1\\}$ being the measurement\n",
        "outcomes on nodes $t_\\mathrm{in}$, $a_1$ and $a_2$, respectively. Note\n",
        "that the measurement basis is adaptive; the measurement on $a_3$, for\n",
        "example, depends on the outcome of earlier measurements in the chain.\n",
        "After these operations, the state of qubit $t_\\mathrm{out}$ is given by\n",
        "\n",
        "$$|\\psi_{\\mathrm{out}}\\rangle = \\tilde{U}(\\alpha, \\beta, \\gamma)|\\psi_{\\mathrm{in}}\\rangle\n",
        "= X^{m_1 + m_3}Z^{m_{\\mathrm{in}} + m_2}U(\\alpha, \\beta, \\gamma)\n",
        "|\\psi_{\\mathrm{in}}\\rangle.$$\n",
        "\n",
        "with $m_3$ being the measurement outcome on node $a_3$. Now note that\n",
        "this unitary $\\tilde{U}$ is related to our desired unitary $U$ up to the\n",
        "first two Pauli terms. Luckily, we can correct for these additional\n",
        "Pauli gates by choosing the measurement basis of qubit $t_\\mathrm{out}$\n",
        "appropriately or correcting for them classically after the quantum\n",
        "computation.\n",
        "\n",
        "To demonstrate that this actually works, we will use PennyLane. For\n",
        "simplicity, we will just show the ability will to perform single-axis\n",
        "rotations $R_z(\\theta)$ and $R_x(\\theta)$ for arbitrary\n",
        "$\\theta \\in [0, 2 \\pi)$. Note that these two operations plus the CNOT\n",
        "also constitute a universal gate set.\n",
        "\n",
        "To start off, we define the $R_z(\\theta)$ gate using two qubits with the\n",
        "gate-based approach so we can later compare our MBQC approach to it.\n"
      ]
    },
    {
      "cell_type": "code",
      "execution_count": null,
      "metadata": {
        "collapsed": false
      },
      "outputs": [],
      "source": [
        "dev = qml.device(\"default.qubit\", wires=1)\n",
        "\n",
        "\n",
        "@qml.qnode(dev, interface=\"autograd\")\n",
        "def RZ(theta, input_state):\n",
        "    # Prepare the input state\n",
        "    qml.QubitStateVector(input_state, wires=0)\n",
        "\n",
        "    # Perform the Rz rotation\n",
        "    qml.RZ(theta, wires=0)\n",
        "\n",
        "    # Return the density matrix of the output state\n",
        "    return qml.density_matrix(wires=[0])"
      ]
    },
    {
      "cell_type": "markdown",
      "metadata": {},
      "source": [
        "Let\\'s now implement an $R_z$ gate on an arbitrary state in the MBQC\n",
        "formalism.\n"
      ]
    },
    {
      "cell_type": "code",
      "execution_count": null,
      "metadata": {
        "collapsed": false
      },
      "outputs": [],
      "source": [
        "mbqc_dev = qml.device(\"default.qubit\", wires=2)\n",
        "\n",
        "\n",
        "@qml.qnode(mbqc_dev, interface=\"autograd\")\n",
        "def RZ_MBQC(theta, input_state):\n",
        "    # Prepare the input state\n",
        "    qml.QubitStateVector(input_state, wires=0)\n",
        "\n",
        "    # Prepare the cluster state\n",
        "    qml.Hadamard(wires=1)\n",
        "    qml.CZ(wires=[0, 1])\n",
        "\n",
        "    # Measure the first qubit an correct the state\n",
        "    qml.RZ(theta, wires=0)\n",
        "    qml.Hadamard(wires=0)\n",
        "    m = qml.measure(wires=[0])\n",
        "\n",
        "    qml.cond(m == 1, qml.PauliX)(wires=1)\n",
        "    qml.Hadamard(wires=1)\n",
        "\n",
        "    # Return the density matrix of the output state\n",
        "    return qml.density_matrix(wires=[1])"
      ]
    },
    {
      "cell_type": "markdown",
      "metadata": {},
      "source": [
        "Next, we will prepare a random input state and compare the two\n",
        "approaches.\n"
      ]
    },
    {
      "cell_type": "code",
      "execution_count": null,
      "metadata": {
        "collapsed": false
      },
      "outputs": [],
      "source": [
        "# Generate a random input state\n",
        "input_state = generate_random_state()\n",
        "theta = 2 * np.pi * np.random.random()\n",
        "\n",
        "np.allclose(RZ(theta, input_state), RZ_MBQC(theta, input_state))"
      ]
    },
    {
      "cell_type": "markdown",
      "metadata": {},
      "source": [
        "Seems good! As we can see, the resulting states are practically the\n",
        "same. For the $R_x(\\theta)$ gate we take a similar approach.\n"
      ]
    },
    {
      "cell_type": "code",
      "execution_count": null,
      "metadata": {
        "collapsed": false
      },
      "outputs": [],
      "source": [
        "dev = qml.device(\"default.qubit\", wires=1)\n",
        "\n",
        "\n",
        "@qml.qnode(dev, interface=\"autograd\")\n",
        "def RX(theta, input_state):\n",
        "    # Prepare the input state\n",
        "    qml.QubitStateVector(input_state, wires=0)\n",
        "\n",
        "    # Perform the Rz rotation\n",
        "    qml.RX(theta, wires=0)\n",
        "\n",
        "    # Return the density matrix of the output state\n",
        "    return qml.density_matrix(wires=[0])\n",
        "\n",
        "\n",
        "mbqc_dev = qml.device(\"default.qubit\", wires=3)\n",
        "\n",
        "\n",
        "@qml.qnode(mbqc_dev, interface=\"autograd\")\n",
        "def RX_MBQC(theta, input_state):\n",
        "    # Prepare the input state\n",
        "    qml.QubitStateVector(input_state, wires=0)\n",
        "\n",
        "    # Prepare the cluster state\n",
        "    qml.Hadamard(wires=1)\n",
        "    qml.Hadamard(wires=2)\n",
        "    qml.CZ(wires=[0, 1])\n",
        "    qml.CZ(wires=[1, 2])\n",
        "\n",
        "    # Measure the qubits and perform corrections\n",
        "    qml.Hadamard(wires=0)\n",
        "    m1 = qml.measure(wires=[0])\n",
        "\n",
        "    qml.RZ(theta, wires=1)\n",
        "    qml.cond(m1 == 1, qml.RX)(-2 * theta, wires=2)\n",
        "    qml.Hadamard(wires=1)\n",
        "    m2 = qml.measure(wires=[1])\n",
        "\n",
        "    qml.cond(m2 == 1, qml.PauliX)(wires=2)\n",
        "    qml.cond(m1 == 1, qml.PauliZ)(wires=2)\n",
        "\n",
        "    # Return the density matrix of the output state\n",
        "    return qml.density_matrix(wires=[2])"
      ]
    },
    {
      "cell_type": "markdown",
      "metadata": {},
      "source": [
        "Finally, we again compare the two implementations with a random state as\n",
        "an input.\n"
      ]
    },
    {
      "cell_type": "code",
      "execution_count": null,
      "metadata": {
        "collapsed": false
      },
      "outputs": [],
      "source": [
        "# Generate a random input state\n",
        "input_state = generate_random_state()\n",
        "theta = 2 * np.pi * np.random.random()\n",
        "\n",
        "np.allclose(RX(theta, input_state), RX_MBQC(theta, input_state))"
      ]
    },
    {
      "cell_type": "markdown",
      "metadata": {},
      "source": [
        "Perfect! We have shown that we can implement any single-axis rotation on\n",
        "an arbitrary state in the MBQC formalism. In the following section we\n",
        "will look at a two-qubit gate to complete our universal gate set.\n"
      ]
    },
    {
      "cell_type": "markdown",
      "metadata": {},
      "source": [
        "The two-qubit gate: CNOT\n",
        "========================\n",
        "\n",
        "The second ingredient for a universal quantum computing scheme is the\n",
        "two-qubit gate. Here, we will show how to perform a CNOT operation in\n",
        "the measurement-based framework. The input state is given on two qubits,\n",
        "control qubit $c$ and target qubit $t_\\mathrm{in}$. Preparing the\n",
        "cluster state shown in the figure below, and measuring qubits\n",
        "$t_\\mathrm{in}$ and $a$ in the $X$-basis, we implement the CNOT gate\n",
        "between qubits $c$ and $t_\\mathrm{out}$ up to Pauli corrections.\n",
        "\n",
        "![..](../demonstrations/mbqc/cnot.png){.align-center width=\"50.0%\"}\n",
        "\n",
        "Let\\'s see how one can do this in PennyLane.\n"
      ]
    },
    {
      "cell_type": "code",
      "execution_count": null,
      "metadata": {
        "collapsed": false
      },
      "outputs": [],
      "source": [
        "dev = qml.device(\"default.qubit\", wires=2)\n",
        "\n",
        "\n",
        "@qml.qnode(dev, interface=\"autograd\")\n",
        "def CNOT(input_state):\n",
        "    # Prepare the input state\n",
        "    qml.QubitStateVector(input_state, wires=[0, 1])\n",
        "    qml.CNOT(wires=[0, 1])\n",
        "\n",
        "    return qml.density_matrix(wires=[0, 1])\n",
        "\n",
        "\n",
        "mbqc_dev = qml.device(\"default.qubit\", wires=4)\n",
        "\n",
        "\n",
        "@qml.qnode(mbqc_dev, interface=\"autograd\")\n",
        "def CNOT_MBQC(input_state):\n",
        "    # Prepare the input state\n",
        "    qml.QubitStateVector(input_state, wires=[0, 1])\n",
        "\n",
        "    # Prepare the cluster state\n",
        "    qml.Hadamard(wires=2)\n",
        "    qml.Hadamard(wires=3)\n",
        "    qml.CZ(wires=[2, 0])\n",
        "    qml.CZ(wires=[2, 1])\n",
        "    qml.CZ(wires=[2, 3])\n",
        "\n",
        "    # Measure the qubits in the appropriate bases\n",
        "    qml.Hadamard(wires=1)\n",
        "    m1 = qml.measure(wires=[1])\n",
        "    qml.Hadamard(wires=2)\n",
        "    m2 = qml.measure(wires=[2])\n",
        "\n",
        "    # Correct the state\n",
        "    qml.cond(m1 == 1, qml.PauliZ)(wires=0)\n",
        "    qml.cond(m2 == 1, qml.PauliX)(wires=3)\n",
        "    qml.cond(m1 == 1, qml.PauliZ)(wires=3)\n",
        "\n",
        "    # Return the density matrix of the output state\n",
        "    return qml.density_matrix(wires=[0, 3])"
      ]
    },
    {
      "cell_type": "markdown",
      "metadata": {},
      "source": [
        "Now let\\'s prepare a random input state and check our implementation.\n"
      ]
    },
    {
      "cell_type": "code",
      "execution_count": null,
      "metadata": {
        "collapsed": false
      },
      "outputs": [],
      "source": [
        "# Generate a random 2-qubit state\n",
        "input_state = generate_random_state(n=2)\n",
        "\n",
        "np.allclose(CNOT(input_state), CNOT_MBQC(input_state))"
      ]
    },
    {
      "cell_type": "markdown",
      "metadata": {},
      "source": [
        "Arbitrary quantum circuits\n",
        "==========================\n",
        "\n",
        "Once we have established the ability to implement arbitrary single-qubit\n",
        "rotations and a two-qubit gate, the final step is to show that we can\n",
        "implement arbitrary quantum circuits. To do so, we simply have to note\n",
        "that we have a *universal gate set*. The complete computation can be\n",
        "performed as shown in the figure below. The qubits are teleported along\n",
        "the arrows in the cluster and single-qubit gates are applied through a\n",
        "selection of measurement bases along these arrays. Two-qubit gates are\n",
        "implemented along vertical arrows, and the rest of the qubits are\n",
        "measured in the $Z$-basis, effectively taking them out of the cluster\n",
        "without affecting the neighboring nodes.\n",
        "\n",
        "![..](../demonstrations/mbqc/mbqc_info_flow.png){.align-center\n",
        "width=\"75.0%\"}\n",
        "\n",
        "A complete measurement-based quantum computation. Circles $\\odot$\n",
        "symbolize measurements of Pauli-$Z$, vertical arrows $\\uparrow$ are\n",
        "measurements of Pauli-$X$, while tilted arrows $\\nwarrow$ or $\\nearrow$\n",
        "refer to measurements in the $xy$-plane.\n",
        "\n",
        "However, you might wonder: Is it even feasible to construct the large\n",
        "cluster states that one-way quantum computation requires? The number of\n",
        "qubits needed to construct a circuit can grow to be very large, as it\n",
        "not only depends on the number of logical qubits, but also on the depth\n",
        "of the circuit. At this point, it\\'s good to reiterate that the\n",
        "entanglement of the cluster state is created *off-line*.\n",
        "\n",
        "*\\...the entanglement is created independently from the rest of the\n",
        "computation, like how a blank sheet of paper is made separately from the\n",
        "text of a book.*\n",
        "\n",
        "Interestingly enough, we do not have to prepare all of the entanglement\n",
        "at once. Just like we can already start printing text upon the first few\n",
        "pages, we can apply measurements to one end of the cluster while growing\n",
        "it at the same time, as shown in the figure below. That is, we can start\n",
        "printing the text on the first few pages while at the same time\n",
        "reloading the printer\\'s paper tray!\n",
        "\n",
        "![..](../demonstrations/mbqc/measure_entangle.jpeg){.align-center\n",
        "width=\"75.0%\"}\n",
        "\n",
        "Schematic showing how we can also consume the cluster state while we\n",
        "grow it. The blue qubits are in a cluster state, where the bonds between\n",
        "them represent entanglement. The gray qubits have been measured,\n",
        "destroying the entanglement and removing them from the cluster. At the\n",
        "same time, the green qubits are being added to the cluster by entangling\n",
        "them with it. Prior measurement outcomes determine the basis for future\n",
        "measurements.\n",
        "\n",
        "This feature makes it particularly attractive for photonic quantum\n",
        "computers: we can use expendable qubits that can\\'t stick around for the\n",
        "full calculation. If we can find a reliable way to produce qubits and\n",
        "stitch them together through entanglement, we can use it to produce our\n",
        "cluster state resource! Essentially, we need some kind of qubit factory\n",
        "and a stitching mechanism that puts it all together. The stitching\n",
        "mechanism depends on the physical platform; for example, it can be\n",
        "implemented with an Ising interaction or by interfering two optical\n",
        "modes with a beamsplitter.\n"
      ]
    },
    {
      "cell_type": "markdown",
      "metadata": {},
      "source": [
        "Quantum error correction\n",
        "========================\n",
        "\n",
        "To mitigate the physical errors that can (and will) happen during a\n",
        "quantum computation, we require some kind of error correction scheme.\n",
        "Error correction is a technique for detecting errors and reconstructing\n",
        "the logical data with as little information loss as possible. It is not\n",
        "exclusive to quantum computing; it is also used in \\\"classical\\\"\n",
        "information processing such as computation, data storage, and\n",
        "communication where one also has to deal [with noise coming from the\n",
        "environment](https://www.youtube.com/watch?v=AaZ_RSt0KP8). However, it\n",
        "is a stringent requirement in the quantum realm as the systems one works\n",
        "with are much more precarious and therefore prone to environmental\n",
        "factors, causing errors.\n",
        "\n",
        "Due to the peculiarities of quantum physics, we have to be careful when\n",
        "implementing error correction. First of all, we can not simply look\n",
        "inside our quantum computer and see if an error occurred; this would\n",
        "collapse the wavefunction, which carries valuable information. Secondly,\n",
        "we can not make copies of a quantum state to create redundancy because\n",
        "of the *no-cloning theorem*. Lastly, there are infinitely many more\n",
        "errors in quantum computing, whereas the only errors in classical\n",
        "computing are bit flips: a 1 being flipped to a 0 or vice versa.\n",
        "\n",
        "A whole research field devoted to combating these challenges has formed\n",
        "since Peter Shor published his seminal paper in 1995. The main idea in\n",
        "QEC is using redundancy to encode information, just like classical error\n",
        "correction. However, to overcome the quantum-specific problems, we must\n",
        "measure groups of qubits and observe correlations between rather than\n",
        "measuring individual qubits. More technically, we measure operators that\n",
        "involve multiple qubits, called *stabilizers*. Based on the outcome of\n",
        "these stabilizer measurements, we can apply a correction and recover our\n",
        "information. Full coverage of this topic is beyond the scope of this\n",
        "tutorial, but a good place to start is [Daniel Gottesman\\'s\n",
        "thesis](https://arxiv.org/abs/quant-ph/9705052) or [this blog post by\n",
        "Arthur Pesah](https://arthurpesah.me/blog/2022-01-25-intro-qec-1/) for a\n",
        "more compact introduction. Instead, we will give you the gist of quantum\n",
        "error correction in the MBQC framework. We will do so by using the\n",
        "surface code as an example. This code makes use of stabilizers of the\n",
        "form $\\bigotimes_i X_i$ or $\\bigotimes_j Z_j$, as depicted below.\n",
        "\n",
        "::: {#fig-surfacecode}\n",
        "![..](../demonstrations/mbqc/surface_code_d3.png){.align-center\n",
        "width=\"50.0%\"}\n",
        "\n",
        "A distance $d=3$ surface code. Circles represent qubits and bubbles\n",
        "represent operators, called stabilizers, used to detect errors. The\n",
        "stabilizers are tensor products of Pauli-$X$ or Pauli-$Z$ operators and\n",
        "each is associated with its own ancilla qubit. The combined system\n",
        "encodes one logical qubit and can correct any combination of\n",
        "$\\lfloor (d-1)/2 \\rfloor$ errors.\n",
        ":::\n",
        "\n",
        "In the measurement-based picture, quantum error correction requires\n",
        "cluster states that are at least 3-dimensional, contrary to the\n",
        "2-dimensional cluster states required for universal quantum computation\n",
        "discussed in the previous section. The error correcting code that you\n",
        "want to implement dictates the structure of the cluster state. The\n",
        "cluster state that is associated with the surface code is known as the\n",
        "RHG lattice, named after its architects Raussendorf, Harrington, and\n",
        "Goyal. We can visualize this cluster state with FlamingPy.\n"
      ]
    },
    {
      "cell_type": "code",
      "execution_count": null,
      "metadata": {
        "collapsed": false
      },
      "outputs": [],
      "source": [
        "from flamingpy.codes import SurfaceCode\n",
        "\n",
        "code_distance = 3\n",
        "RHG = SurfaceCode(code_distance)\n",
        "\n",
        "fig, _ = RHG.draw(backend=\"matplotlib\", showbackground=True)\n",
        "plt.show()"
      ]
    },
    {
      "cell_type": "markdown",
      "metadata": {},
      "source": [
        "For the sake of intuition, you can think of the graph shown above as\n",
        "having two spatial dimensions ($x$ and $y$) and one temporal dimension\n",
        "($z$). The cluster state alternates between *primal* and *dual sheets*,\n",
        "shown below in more detail. In principle, any quantum error correction\n",
        "stabilizer code can be [foliated](https://arxiv.org/abs/1607.02579) into\n",
        "a graph state for measurement-based QEC,. However, the foliations are\n",
        "particularly nice for [CSS codes](https://errorcorrectionzoo.org/c/css),\n",
        "named after Calderbank, Shor, and Steane. CSS codes have stabilizers\n",
        "that exclusively contain $X$-stabilizers *or* $Z$-stabilizers, and\n",
        "include the *surface code* and *colour code* families. For these CSS\n",
        "codes, you can roughly view the primal and dual sheets as measuring the\n",
        "$Z$-stabilizers and $X$-stabilizers, respectively. We encourage you to\n",
        "have another look at the `figure <fig-surfacecode>`{.interpreted-text\n",
        "role=\"ref\"} with the distance-3 surface code and try to link it with the\n",
        "dual and primal sheets shown here!\n",
        "\n",
        "![](../demonstrations/mbqc/primal_dual.png){.align-center width=\"70.0%\"}\n",
        "\n",
        "The computation and error correction are again performed with\n",
        "single-qubit measurements, as illustrated below. At each timestep, we\n",
        "measure all the qubits on one sheet of the lattice. The binary outcomes\n",
        "of these measurements determine the measurement bases for future\n",
        "measurements, and the last sheet of the lattice contains the encoded\n",
        "result of the computation which can be read out by yet another\n",
        "measurement.\n",
        "\n",
        "![..](../demonstrations/mbqc/gif_measuring.gif){.align-center\n",
        "width=\"75.0%\"}\n",
        "\n",
        "Performing an error corrected computation with measurements using the\n",
        "RHG lattice.\n"
      ]
    },
    {
      "cell_type": "markdown",
      "metadata": {},
      "source": [
        "Conclusion\n",
        "==========\n",
        "\n",
        "We have learned that a one-way quantum computer capable of cluster state\n",
        "entanglement together with adaptive arbitrary single-qubit measurements\n",
        "allows for universal quantum computation. The MBQC framework is a\n",
        "powerful quantum computing approach, particularly useful in platforms\n",
        "that allow for many expendable flying qubits and easy physical\n",
        "entangling gates. It circumvents the need for applying in-line\n",
        "entangling gates that are often the most noisy operations in gate-based\n",
        "quantum computers with trapped-ions or superconducting circuits.\n",
        "Instead, the required entanglement is created off-line which is often\n",
        "simpler to implement. Furthermore, it\\'s advantageous for photonics\n",
        "because the depth of the optical circuit can remain constant. This means\n",
        "that it does not grow with the depth of the logical circuit, preventing\n",
        "intolerable losses.\n",
        "\n",
        "In this demo, we assumed that the system is capable of performing\n",
        "arbitrary single-qubit measurements. This is not a strict requirement,\n",
        "as one can acquire the same capabilities by sprinkling *magic states*\n",
        "into the cluster state. A discussion of this topic is beyond the scope\n",
        "of this tutorial, but a good place to start is [this\n",
        "paper](https://arxiv.org/abs/quant-ph/0403025).\n",
        "\n",
        "Xanadu\\'s approach toward a universal quantum computer involves\n",
        "*continuous-variable* cluster states . If you would like to learn more\n",
        "about the architecture, you can read our blueprint papers and. We also\n",
        "highly recommend watching [this\n",
        "video](https://www.youtube.com/watch?v=SD6TH7GZ1rM&feature=emb_title)\n",
        "outlining the main ideas!\n"
      ]
    },
    {
      "cell_type": "markdown",
      "metadata": {},
      "source": [
        "References\n",
        "==========\n"
      ]
    },
    {
      "cell_type": "markdown",
      "metadata": {},
      "source": [
        "About the authors \\-\\-\\-\\-\\-\\-\\-\\-\\-\\-\\-\\-\\-\\-\\--\n"
      ]
    }
  ],
  "metadata": {
    "kernelspec": {
      "display_name": "Python 3",
      "language": "python",
      "name": "python3"
    },
    "language_info": {
      "codemirror_mode": {
        "name": "ipython",
        "version": 3
      },
      "file_extension": ".py",
      "mimetype": "text/x-python",
      "name": "python",
      "nbconvert_exporter": "python",
      "pygments_lexer": "ipython3",
      "version": "3.10.7"
    }
  },
  "nbformat": 4,
  "nbformat_minor": 0
}
