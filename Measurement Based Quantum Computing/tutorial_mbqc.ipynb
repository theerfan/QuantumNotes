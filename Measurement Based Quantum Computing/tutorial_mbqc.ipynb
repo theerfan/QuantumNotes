{
  "cells": [
    {
      "cell_type": "code",
      "execution_count": null,
      "metadata": {
        "collapsed": false
      },
      "outputs": [],
      "source": [
        "# This cell is added by sphinx-gallery\n# It can be customized to whatever you like\n%matplotlib inline"
      ]
    },
    {
      "cell_type": "markdown",
      "metadata": {},
      "source": [
        "Measurement-based quantum computation {#mbqc}\n=====================================\n\n::: {.meta}\n:property=\\\"og:description\\\": Learn about measurement-based quantum\ncomputation :property=\\\"og:image\\\":\n<https://pennylane.ai/qml/_images/thumbnail_mbqc.png>\n:::\n\n::: {.related}\ntutorial\\_toric\\_code Toric code\n:::\n\n*Authors: Joost Bus and Radoica Dra\u0161ki\u0107 --- Posted: 05 December 2022.\nLast updated: 05 December 2022.*\n"
      ]
    },
    {
      "cell_type": "markdown",
      "metadata": {},
      "source": [
        "**Measurement-based quantum computing (MBQC)**, also known as one-way\nquantum computing, is an inventive approach to quantum computing that\nmakes use of *off-line* entanglement as a resource for computation. A\none-way quantum computer starts out with an entangled state, a so-called\n*cluster state*, and applies particular single-qubit measurements that\ncorrespond to the desired quantum circuit. In this context, off-line\nmeans that the entanglement is created independently from the rest of\nthe computation, like how a blank sheet of paper is made separately from\nthe text of a book. Coming from the gate-based model, this method might\nseem unintuitive to you at first, but the approaches can be proven to be\nequally powerful. In MBQC, the measurements *are* the computation and\nthe entanglement of the cluster state is used as a resource.\n\nThe structure of this demo will be as follows. First, we introduce the\nconcept of a cluster state, the substrate for measurement-based quantum\ncomputation. Then, we will move on to explain how to implement arbitrary\nquantum circuits, thus proving that MBQC is universal. Lastly, we will\nbriefly touch upon how quantum error correction (QEC) is done in this\nscheme.\n\nThroughout this tutorial, we will explain the underlying concepts with\nthe help of some code snippets using\n[PennyLane](https://pennylane.readthedocs.io/en/stable/). In the section\nabout QEC, we will also use Xanadu\\'s quantum error correction\nsimulation software\n[FlamingPy](https://flamingpy.readthedocs.io/en/latest/) developed by\nour architecture team .\n\n![..](../demonstrations/mbqc/DALLE-mbqc.png){.align-center\nwidth=\"60.0%\"}\n\nIn MBQC, seeing is computing!\n"
      ]
    },
    {
      "cell_type": "markdown",
      "metadata": {},
      "source": [
        "Cluster states and graph states \\-\\-\\-\\-\\-\\-\\-\\-\\-\\-\\-\\-\\-\\-\\--\n\n*Cluster states* are the universal substrate for measurement-based\nquantum computation . They are a special instance of *graph states*, a\nclass of entangled multi-qubit states that can be represented by an\nundirected graph $G = (V,E)$ whose vertices $V$ are associated with\nqubits and the edges $E$ with entanglement between them. The associated\nquantum state reads as follows\n\n$$|\\Phi\\rangle=\\Pi_{(i,j)\\in E}CZ_{ij}|+\u27e9^{\\otimes n}.$$\n\nwhere $n$ is the number of qubits, $CZ_{ij}$ is the controlled-$Z$[ gate\nbetween qubits :math:\\`i]{.title-ref} and $j$, and\n$|+\\rangle = \\frac{1}{\\sqrt{2}}\\big(|0\\rangle + |1\\rangle\\big)$ is the\n$+1$[ eigenstate of the Pauli-:math:\\`X]{.title-ref} operator. The\ndistinction between graph states and a cluster states is rather\ntechnical and details can be found in Ref. . For now, suffice to say\nthat cluster states are a subset of graph states with some additional\nconditions.\n\nWe can also describe the creation of a cluster state in the gate-based\nmodel. Let us first define a graph we want to look at, and then\nconstruct a circuit in PennyLane to create the corresponding graph\nstate.\n"
      ]
    },
    {
      "cell_type": "code",
      "execution_count": null,
      "metadata": {
        "collapsed": false
      },
      "outputs": [],
      "source": [
        "import networkx as nx\nimport matplotlib.pyplot as plt\n\na, b = 1, 5  # dimensions of the graph (lattice)\nG = nx.grid_graph(dim=[a, b])  # there are a * b qubits\n\nplt.figure(figsize=(5, 1))\nnx.draw(G, pos={node: node for node in G}, node_size=500, node_color=\"black\")"
      ]
    },
    {
      "cell_type": "markdown",
      "metadata": {},
      "source": [
        "This is a fairly simple cluster state, but we will later see how even\nthis simple graph is useful for logical operations. Now that we have\ndefined a graph, we can go ahead and define a circuit to prepare the\ncluster state.\n"
      ]
    },
    {
      "cell_type": "code",
      "execution_count": null,
      "metadata": {
        "collapsed": false
      },
      "outputs": [],
      "source": [
        "import pennylane as qml\n\nqubits = [str(node) for node in G.nodes]\ndev = qml.device(\"default.qubit\", wires=qubits)\n\n\n@qml.qnode(dev, interface=\"autograd\")\ndef cluster_state():\n    for node in qubits:\n        qml.Hadamard(wires=[node])\n\n    for edge in G.edges:\n        i, j = edge\n        qml.CZ(wires=[str(i), str(j)])\n\n    return qml.state()\n\n\nprint(qml.draw(cluster_state)())"
      ]
    },
    {
      "cell_type": "markdown",
      "metadata": {},
      "source": [
        "Observe that the structure of the circuit is fairly simple. It only\nrequires Hadamard gates on each qubit and then a controlled-$Z$ gate\nbetween connected qubits. This part of the computation is not actually\ncomputing anything. In fact, aside from the width and depth of the\ndesired quantum circuit, the cluster state generation is essentially\nindependent of the calculation. If you have a reliable way of applying\nthese two operations (Hadamard and controlled-$Z$), you are ready for\nthe next step: worrying about conditional single-qubit measurements.\n"
      ]
    },
    {
      "cell_type": "markdown",
      "metadata": {},
      "source": [
        "Information propagation and teleportation\n=========================================\n\nMeasurement-based quantum computation heavily relies on the idea of\ninformation propagation. In particular, we make use of a protocol called\n*quantum teleportation*, one of the driving concepts behind MBQC.\nDespite its Sci-Fi name, quantum teleportation is very real and has been\nexperimentally demonstrated multiple times in the last few decades ,,,.\nMoreover, it has related applications in safe communication protocols\nthat are impossible with classical communication so it\\'s certainly\nworth learning about. In this protocol, we transport *information*, not\nmatter, between systems. Admittedly, it has a somewhat misleading name\nbecause it is not instantaneous: it requires communication of additional\nclassical information, which is still limited by the speed of light.\n\nOne-qubit Teleportation ``````````[ Let\\'s take a deeper look at the\nprinciples behind quantum teleportation using a simple example of\none-qubit teleportation. We start with one qubit in the state\n:math:]{.title-ref}\\|psirangle\\` that we want to transfer to the second\nqubit initially in the state $|0\\rangle$. The figure below represents\nthe protocol. The green box represents the creation of a cluster state,\nwhile the red box represents the measurement of a qubit with the\nappropriate correction applied to the second qubit based on the\nmeasurement outcome.\n\n![..](../demonstrations/mbqc/one-bit-teleportation.png){.align-center\nwidth=\"75.0%\"}\n\nLet\\'s implement one-qubit teleportation in PennyLane.\n"
      ]
    },
    {
      "cell_type": "code",
      "execution_count": null,
      "metadata": {
        "collapsed": false
      },
      "outputs": [],
      "source": [
        "import pennylane as qml\nimport pennylane.numpy as np\n\ndev = qml.device(\"default.qubit\", wires=2)\n\n\n@qml.qnode(dev, interface=\"autograd\")\ndef one_bit_teleportation(input_state):\n    # Prepare the input state\n    qml.QubitStateVector(input_state, wires=0)\n\n    # Prepare the cluster state\n    qml.Hadamard(wires=1)\n    qml.CZ(wires=[0, 1])\n\n    # Measure the first qubit in the Pauli-X basis\n    # and apply an X-gate conditioned on the outcome\n    qml.Hadamard(wires=0)\n    m = qml.measure(wires=[0])\n    qml.cond(m == 1, qml.PauliX)(wires=1)\n    qml.Hadamard(wires=1)\n\n    # Return the density matrix of the output state\n    return qml.density_matrix(wires=[1])"
      ]
    },
    {
      "cell_type": "markdown",
      "metadata": {},
      "source": [
        "Note that we return a [density\nmatrix](https://en.wikipedia.org/wiki/Density_matrix) in the function\nabove. This allows for us to describe operations beyond unitaries, such\nas the teleportation protocol.\n\nNow, let\\'s prepare a random qubit state and see if the teleportation\nprotocol is working as expected. To do so, we\\'ll generate a random\nnormalized state $|\\psi\\rangle = \\alpha |0\\rangle + \\beta |1\\rangle$ and\napply the teleportation protocol to see if the resulting density matrix\ndescribing the second qubit is the same as our input state\n$|\\psi\\rangle$.\n"
      ]
    },
    {
      "cell_type": "code",
      "execution_count": null,
      "metadata": {
        "collapsed": false
      },
      "outputs": [],
      "source": [
        "# Define helper function for random input state on n qubits\ndef generate_random_state(n=1):\n    input_state = np.random.random(2 ** n) + 1j * np.random.random(2 ** n)\n    return input_state / np.linalg.norm(input_state)\n\n\n# Generate a random input state |psi> for n=1 qubit\ninput_state = generate_random_state()\n\ndensity_matrix = np.outer(input_state, np.conj(input_state))\ndensity_matrix_mbqc = one_bit_teleportation(input_state)\n\nnp.allclose(density_matrix, density_matrix_mbqc)"
      ]
    },
    {
      "cell_type": "markdown",
      "metadata": {},
      "source": [
        "As we can see, $|\\psi\\rangle$, originally the state of the first qubit,\nhas been transported to the second qubit!\n\nThis protocol is one of the main ingredients of one-way quantum\ncomputing. Essentially, we propagate the information in one end of our\ncluster state to the other end through successive teleportations. In\naddition, we can \\\"write\\\" our circuit onto the cluster state by\nchoosing the measurements adaptively. In the next section, we will see\nhow we can actually do this.\n"
      ]
    },
    {
      "cell_type": "markdown",
      "metadata": {},
      "source": [
        "Universality of MBQC\n====================\n\nHow do we know if this measurement-based scheme is just as powerful as\nits gate-based counterpart? We have to prove it! In particular, we want\nto show that a measurement-based quantum computer is a [quantum Turing\nmachine (QTM)](https://en.wikipedia.org/wiki/Quantum_Turing_machine). To\ndo this, we need to show 4 things:\n\n1.  How **information propagates** through the cluster state.\n2.  How arbitrary **single-qubit rotations** can be implemented.\n3.  How a **two-qubit gate** can be implemented in this scheme.\n4.  How to implement **arbitrary quantum circuits**.\n\nIn the previous section, we have already seen how the quantum\ninformation propagates from one side of the cluster to the other. In\nthis section, we will tackle the remaining parts concerning logical\noperations. Throughout, we will assume the ability to measure in\narbitrary bases.\n"
      ]
    },
    {
      "cell_type": "markdown",
      "metadata": {},
      "source": [
        "Single-qubit rotations\n======================\n\nArbitrary single-qubit rotations are essential operations for a\nuniversal quantum computer. In MBQC, we can implement these rotations by\nusing the entanglement of the cluster state. Any single-qubit gate can\nbe represented as a composition of three rotations along two different\naxes, for example\n$U(\\alpha, \\beta, \\gamma) = R_x(\\gamma)R_z(\\beta)R_x(\\alpha)$ where\n$R_x$ and $R_z$ represent rotations around the $X$ and $Z$ axis,\nrespectively.\n\nWe will see that in our measurement-based scheme, this operation can be\nimplemented using a linear chain of 5 qubits prepared in a cluster\nstate, as shown in the figure below. The first qubit $t_\\mathrm{in}$ is\nprepared in some input state $|\\psi_\\mathrm{in}\\rangle$, and we are\ninterested in the final state of the output qubit $t_\\mathrm{out}$.\n\n![..](../demonstrations/mbqc/single-qubit-rotation.png){.align-center\nwidth=\"75.0%\"}\n\nThe input qubit $t_\\mathrm{in}$, together with the intermediate qubits\n$a_1$, $a_2$, and $a_3$ are then measured in the bases\n\n$$\\mathcal{B}_j(\\theta_j) \\equiv \\left\\{\\frac{|0\\rangle + e^{i\\theta_j}|1\\rangle}{\\sqrt{2}},\n\\frac{|0\\rangle - e^{i\\theta_j}|1\\rangle}{\\sqrt{2}}\\right\\},$$\n\nwhere the angles $\\theta_j$ depend on prior measurement outcomes and are\ngiven by\n\n$$\\theta_{\\mathrm{in}} = 0, \\qquad \\theta_{1} = (-1)^{m_{\\mathrm{in}} + 1} \\alpha, \\qquad\n\\theta_{2} = (-1)^{m_1} \\beta, \\quad \\text{and} \\quad \\theta_{3} = (-1)^{m_{\\mathrm{in}} + m_2} \\gamma$$\n\nwith $m_{\\mathrm{in}}, m_1, m_2 \\in \\{0, 1\\}$ being the measurement\noutcomes on nodes $t_\\mathrm{in}$, $a_1$ and $a_2$, respectively. Note\nthat the measurement basis is adaptive; the measurement on $a_3$, for\nexample, depends on the outcome of earlier measurements in the chain.\nAfter these operations, the state of qubit $t_\\mathrm{out}$ is given by\n\n$$|\\psi_{\\mathrm{out}}\\rangle = \\tilde{U}(\\alpha, \\beta, \\gamma)|\\psi_{\\mathrm{in}}\\rangle\n= X^{m_1 + m_3}Z^{m_{\\mathrm{in}} + m_2}U(\\alpha, \\beta, \\gamma)\n|\\psi_{\\mathrm{in}}\\rangle.$$\n\nwith $m_3$ being the measurement outcome on node $a_3$. Now note that\nthis unitary $\\tilde{U}$ is related to our desired unitary $U$ up to the\nfirst two Pauli terms. Luckily, we can correct for these additional\nPauli gates by choosing the measurement basis of qubit $t_\\mathrm{out}$\nappropriately or correcting for them classically after the quantum\ncomputation.\n\nTo demonstrate that this actually works, we will use PennyLane. For\nsimplicity, we will just show the ability will to perform single-axis\nrotations $R_z(\\theta)$ and $R_x(\\theta)$ for arbitrary\n$\\theta \\in [0, 2 \\pi)$. Note that these two operations plus the CNOT\nalso constitute a universal gate set.\n\nTo start off, we define the $R_z(\\theta)$ gate using two qubits with the\ngate-based approach so we can later compare our MBQC approach to it.\n"
      ]
    },
    {
      "cell_type": "code",
      "execution_count": null,
      "metadata": {
        "collapsed": false
      },
      "outputs": [],
      "source": [
        "dev = qml.device(\"default.qubit\", wires=1)\n\n\n@qml.qnode(dev, interface=\"autograd\")\ndef RZ(theta, input_state):\n    # Prepare the input state\n    qml.QubitStateVector(input_state, wires=0)\n\n    # Perform the Rz rotation\n    qml.RZ(theta, wires=0)\n\n    # Return the density matrix of the output state\n    return qml.density_matrix(wires=[0])"
      ]
    },
    {
      "cell_type": "markdown",
      "metadata": {},
      "source": [
        "Let\\'s now implement an $R_z$ gate on an arbitrary state in the MBQC\nformalism.\n"
      ]
    },
    {
      "cell_type": "code",
      "execution_count": null,
      "metadata": {
        "collapsed": false
      },
      "outputs": [],
      "source": [
        "mbqc_dev = qml.device(\"default.qubit\", wires=2)\n\n\n@qml.qnode(mbqc_dev, interface=\"autograd\")\ndef RZ_MBQC(theta, input_state):\n    # Prepare the input state\n    qml.QubitStateVector(input_state, wires=0)\n\n    # Prepare the cluster state\n    qml.Hadamard(wires=1)\n    qml.CZ(wires=[0, 1])\n\n    # Measure the first qubit an correct the state\n    qml.RZ(theta, wires=0)\n    qml.Hadamard(wires=0)\n    m = qml.measure(wires=[0])\n\n    qml.cond(m == 1, qml.PauliX)(wires=1)\n    qml.Hadamard(wires=1)\n\n    # Return the density matrix of the output state\n    return qml.density_matrix(wires=[1])"
      ]
    },
    {
      "cell_type": "markdown",
      "metadata": {},
      "source": [
        "Next, we will prepare a random input state and compare the two\napproaches.\n"
      ]
    },
    {
      "cell_type": "code",
      "execution_count": null,
      "metadata": {
        "collapsed": false
      },
      "outputs": [],
      "source": [
        "# Generate a random input state\ninput_state = generate_random_state()\ntheta = 2 * np.pi * np.random.random()\n\nnp.allclose(RZ(theta, input_state), RZ_MBQC(theta, input_state))"
      ]
    },
    {
      "cell_type": "markdown",
      "metadata": {},
      "source": [
        "Seems good! As we can see, the resulting states are practically the\nsame. For the $R_x(\\theta)$ gate we take a similar approach.\n"
      ]
    },
    {
      "cell_type": "code",
      "execution_count": null,
      "metadata": {
        "collapsed": false
      },
      "outputs": [],
      "source": [
        "dev = qml.device(\"default.qubit\", wires=1)\n\n\n@qml.qnode(dev, interface=\"autograd\")\ndef RX(theta, input_state):\n    # Prepare the input state\n    qml.QubitStateVector(input_state, wires=0)\n\n    # Perform the Rz rotation\n    qml.RX(theta, wires=0)\n\n    # Return the density matrix of the output state\n    return qml.density_matrix(wires=[0])\n\n\nmbqc_dev = qml.device(\"default.qubit\", wires=3)\n\n\n@qml.qnode(mbqc_dev, interface=\"autograd\")\ndef RX_MBQC(theta, input_state):\n    # Prepare the input state\n    qml.QubitStateVector(input_state, wires=0)\n\n    # Prepare the cluster state\n    qml.Hadamard(wires=1)\n    qml.Hadamard(wires=2)\n    qml.CZ(wires=[0, 1])\n    qml.CZ(wires=[1, 2])\n\n    # Measure the qubits and perform corrections\n    qml.Hadamard(wires=0)\n    m1 = qml.measure(wires=[0])\n\n    qml.RZ(theta, wires=1)\n    qml.cond(m1 == 1, qml.RX)(-2 * theta, wires=2)\n    qml.Hadamard(wires=1)\n    m2 = qml.measure(wires=[1])\n\n    qml.cond(m2 == 1, qml.PauliX)(wires=2)\n    qml.cond(m1 == 1, qml.PauliZ)(wires=2)\n\n    # Return the density matrix of the output state\n    return qml.density_matrix(wires=[2])"
      ]
    },
    {
      "cell_type": "markdown",
      "metadata": {},
      "source": [
        "Finally, we again compare the two implementations with a random state as\nan input.\n"
      ]
    },
    {
      "cell_type": "code",
      "execution_count": null,
      "metadata": {
        "collapsed": false
      },
      "outputs": [],
      "source": [
        "# Generate a random input state\ninput_state = generate_random_state()\ntheta = 2 * np.pi * np.random.random()\n\nnp.allclose(RX(theta, input_state), RX_MBQC(theta, input_state))"
      ]
    },
    {
      "cell_type": "markdown",
      "metadata": {},
      "source": [
        "Perfect! We have shown that we can implement any single-axis rotation on\nan arbitrary state in the MBQC formalism. In the following section we\nwill look at a two-qubit gate to complete our universal gate set.\n"
      ]
    },
    {
      "cell_type": "markdown",
      "metadata": {},
      "source": [
        "The two-qubit gate: CNOT\n========================\n\nThe second ingredient for a universal quantum computing scheme is the\ntwo-qubit gate. Here, we will show how to perform a CNOT operation in\nthe measurement-based framework. The input state is given on two qubits,\ncontrol qubit $c$ and target qubit $t_\\mathrm{in}$. Preparing the\ncluster state shown in the figure below, and measuring qubits\n$t_\\mathrm{in}$ and $a$ in the $X$-basis, we implement the CNOT gate\nbetween qubits $c$ and $t_\\mathrm{out}$ up to Pauli corrections.\n\n![..](../demonstrations/mbqc/cnot.png){.align-center width=\"50.0%\"}\n\nLet\\'s see how one can do this in PennyLane.\n"
      ]
    },
    {
      "cell_type": "code",
      "execution_count": null,
      "metadata": {
        "collapsed": false
      },
      "outputs": [],
      "source": [
        "dev = qml.device(\"default.qubit\", wires=2)\n\n\n@qml.qnode(dev, interface=\"autograd\")\ndef CNOT(input_state):\n    # Prepare the input state\n    qml.QubitStateVector(input_state, wires=[0, 1])\n    qml.CNOT(wires=[0, 1])\n\n    return qml.density_matrix(wires=[0, 1])\n\n\nmbqc_dev = qml.device(\"default.qubit\", wires=4)\n\n\n@qml.qnode(mbqc_dev, interface=\"autograd\")\ndef CNOT_MBQC(input_state):\n    # Prepare the input state\n    qml.QubitStateVector(input_state, wires=[0, 1])\n\n    # Prepare the cluster state\n    qml.Hadamard(wires=2)\n    qml.Hadamard(wires=3)\n    qml.CZ(wires=[2, 0])\n    qml.CZ(wires=[2, 1])\n    qml.CZ(wires=[2, 3])\n\n    # Measure the qubits in the appropriate bases\n    qml.Hadamard(wires=1)\n    m1 = qml.measure(wires=[1])\n    qml.Hadamard(wires=2)\n    m2 = qml.measure(wires=[2])\n\n    # Correct the state\n    qml.cond(m1 == 1, qml.PauliZ)(wires=0)\n    qml.cond(m2 == 1, qml.PauliX)(wires=3)\n    qml.cond(m1 == 1, qml.PauliZ)(wires=3)\n\n    # Return the density matrix of the output state\n    return qml.density_matrix(wires=[0, 3])"
      ]
    },
    {
      "cell_type": "markdown",
      "metadata": {},
      "source": [
        "Now let\\'s prepare a random input state and check our implementation.\n"
      ]
    },
    {
      "cell_type": "code",
      "execution_count": null,
      "metadata": {
        "collapsed": false
      },
      "outputs": [],
      "source": [
        "# Generate a random 2-qubit state\ninput_state = generate_random_state(n=2)\n\nnp.allclose(CNOT(input_state), CNOT_MBQC(input_state))"
      ]
    },
    {
      "cell_type": "markdown",
      "metadata": {},
      "source": [
        "Arbitrary quantum circuits\n==========================\n\nOnce we have established the ability to implement arbitrary single-qubit\nrotations and a two-qubit gate, the final step is to show that we can\nimplement arbitrary quantum circuits. To do so, we simply have to note\nthat we have a *universal gate set*. The complete computation can be\nperformed as shown in the figure below. The qubits are teleported along\nthe arrows in the cluster and single-qubit gates are applied through a\nselection of measurement bases along these arrays. Two-qubit gates are\nimplemented along vertical arrows, and the rest of the qubits are\nmeasured in the $Z$-basis, effectively taking them out of the cluster\nwithout affecting the neighboring nodes.\n\n![..](../demonstrations/mbqc/mbqc_info_flow.png){.align-center\nwidth=\"75.0%\"}\n\nA complete measurement-based quantum computation. Circles $\\odot$\nsymbolize measurements of Pauli-$Z$, vertical arrows $\\uparrow$ are\nmeasurements of Pauli-$X$, while tilted arrows $\\nwarrow$ or $\\nearrow$\nrefer to measurements in the $xy$-plane.\n\nHowever, you might wonder: Is it even feasible to construct the large\ncluster states that one-way quantum computation requires? The number of\nqubits needed to construct a circuit can grow to be very large, as it\nnot only depends on the number of logical qubits, but also on the depth\nof the circuit. At this point, it\\'s good to reiterate that the\nentanglement of the cluster state is created *off-line*.\n\n*\\...the entanglement is created independently from the rest of the\ncomputation, like how a blank sheet of paper is made separately from the\ntext of a book.*\n\nInterestingly enough, we do not have to prepare all of the entanglement\nat once. Just like we can already start printing text upon the first few\npages, we can apply measurements to one end of the cluster while growing\nit at the same time, as shown in the figure below. That is, we can start\nprinting the text on the first few pages while at the same time\nreloading the printer\\'s paper tray!\n\n![..](../demonstrations/mbqc/measure_entangle.jpeg){.align-center\nwidth=\"75.0%\"}\n\nSchematic showing how we can also consume the cluster state while we\ngrow it. The blue qubits are in a cluster state, where the bonds between\nthem represent entanglement. The gray qubits have been measured,\ndestroying the entanglement and removing them from the cluster. At the\nsame time, the green qubits are being added to the cluster by entangling\nthem with it. Prior measurement outcomes determine the basis for future\nmeasurements.\n\nThis feature makes it particularly attractive for photonic quantum\ncomputers: we can use expendable qubits that can\\'t stick around for the\nfull calculation. If we can find a reliable way to produce qubits and\nstitch them together through entanglement, we can use it to produce our\ncluster state resource! Essentially, we need some kind of qubit factory\nand a stitching mechanism that puts it all together. The stitching\nmechanism depends on the physical platform; for example, it can be\nimplemented with an Ising interaction or by interfering two optical\nmodes with a beamsplitter.\n"
      ]
    },
    {
      "cell_type": "markdown",
      "metadata": {},
      "source": [
        "Quantum error correction\n========================\n\nTo mitigate the physical errors that can (and will) happen during a\nquantum computation, we require some kind of error correction scheme.\nError correction is a technique for detecting errors and reconstructing\nthe logical data with as little information loss as possible. It is not\nexclusive to quantum computing; it is also used in \\\"classical\\\"\ninformation processing such as computation, data storage, and\ncommunication where one also has to deal [with noise coming from the\nenvironment](https://www.youtube.com/watch?v=AaZ_RSt0KP8). However, it\nis a stringent requirement in the quantum realm as the systems one works\nwith are much more precarious and therefore prone to environmental\nfactors, causing errors.\n\nDue to the peculiarities of quantum physics, we have to be careful when\nimplementing error correction. First of all, we can not simply look\ninside our quantum computer and see if an error occurred; this would\ncollapse the wavefunction, which carries valuable information. Secondly,\nwe can not make copies of a quantum state to create redundancy because\nof the *no-cloning theorem*. Lastly, there are infinitely many more\nerrors in quantum computing, whereas the only errors in classical\ncomputing are bit flips: a 1 being flipped to a 0 or vice versa.\n\nA whole research field devoted to combating these challenges has formed\nsince Peter Shor published his seminal paper in 1995. The main idea in\nQEC is using redundancy to encode information, just like classical error\ncorrection. However, to overcome the quantum-specific problems, we must\nmeasure groups of qubits and observe correlations between rather than\nmeasuring individual qubits. More technically, we measure operators that\ninvolve multiple qubits, called *stabilizers*. Based on the outcome of\nthese stabilizer measurements, we can apply a correction and recover our\ninformation. Full coverage of this topic is beyond the scope of this\ntutorial, but a good place to start is [Daniel Gottesman\\'s\nthesis](https://arxiv.org/abs/quant-ph/9705052) or [this blog post by\nArthur Pesah](https://arthurpesah.me/blog/2022-01-25-intro-qec-1/) for a\nmore compact introduction. Instead, we will give you the gist of quantum\nerror correction in the MBQC framework. We will do so by using the\nsurface code as an example. This code makes use of stabilizers of the\nform $\\bigotimes_i X_i$ or $\\bigotimes_j Z_j$, as depicted below.\n\n::: {#fig-surfacecode}\n![..](../demonstrations/mbqc/surface_code_d3.png){.align-center\nwidth=\"50.0%\"}\n\nA distance $d=3$ surface code. Circles represent qubits and bubbles\nrepresent operators, called stabilizers, used to detect errors. The\nstabilizers are tensor products of Pauli-$X$ or Pauli-$Z$ operators and\neach is associated with its own ancilla qubit. The combined system\nencodes one logical qubit and can correct any combination of\n$\\lfloor (d-1)/2 \\rfloor$ errors.\n:::\n\nIn the measurement-based picture, quantum error correction requires\ncluster states that are at least 3-dimensional, contrary to the\n2-dimensional cluster states required for universal quantum computation\ndiscussed in the previous section. The error correcting code that you\nwant to implement dictates the structure of the cluster state. The\ncluster state that is associated with the surface code is known as the\nRHG lattice, named after its architects Raussendorf, Harrington, and\nGoyal. We can visualize this cluster state with FlamingPy.\n"
      ]
    },
    {
      "cell_type": "code",
      "execution_count": null,
      "metadata": {
        "collapsed": false
      },
      "outputs": [],
      "source": [
        "from flamingpy.codes import SurfaceCode\n\ncode_distance = 3\nRHG = SurfaceCode(code_distance)\n\nfig, _ = RHG.draw(backend=\"matplotlib\", showbackground=True)\nplt.show()"
      ]
    },
    {
      "cell_type": "markdown",
      "metadata": {},
      "source": [
        "For the sake of intuition, you can think of the graph shown above as\nhaving two spatial dimensions ($x$ and $y$) and one temporal dimension\n($z$). The cluster state alternates between *primal* and *dual sheets*,\nshown below in more detail. In principle, any quantum error correction\nstabilizer code can be [foliated](https://arxiv.org/abs/1607.02579) into\na graph state for measurement-based QEC,. However, the foliations are\nparticularly nice for [CSS codes](https://errorcorrectionzoo.org/c/css),\nnamed after Calderbank, Shor, and Steane. CSS codes have stabilizers\nthat exclusively contain $X$-stabilizers *or* $Z$-stabilizers, and\ninclude the *surface code* and *colour code* families. For these CSS\ncodes, you can roughly view the primal and dual sheets as measuring the\n$Z$-stabilizers and $X$-stabilizers, respectively. We encourage you to\nhave another look at the `figure <fig-surfacecode>`{.interpreted-text\nrole=\"ref\"} with the distance-3 surface code and try to link it with the\ndual and primal sheets shown here!\n\n![](../demonstrations/mbqc/primal_dual.png){.align-center width=\"70.0%\"}\n\nThe computation and error correction are again performed with\nsingle-qubit measurements, as illustrated below. At each timestep, we\nmeasure all the qubits on one sheet of the lattice. The binary outcomes\nof these measurements determine the measurement bases for future\nmeasurements, and the last sheet of the lattice contains the encoded\nresult of the computation which can be read out by yet another\nmeasurement.\n\n![..](../demonstrations/mbqc/gif_measuring.gif){.align-center\nwidth=\"75.0%\"}\n\nPerforming an error corrected computation with measurements using the\nRHG lattice.\n"
      ]
    },
    {
      "cell_type": "markdown",
      "metadata": {},
      "source": [
        "Conclusion\n==========\n\nWe have learned that a one-way quantum computer capable of cluster state\nentanglement together with adaptive arbitrary single-qubit measurements\nallows for universal quantum computation. The MBQC framework is a\npowerful quantum computing approach, particularly useful in platforms\nthat allow for many expendable flying qubits and easy physical\nentangling gates. It circumvents the need for applying in-line\nentangling gates that are often the most noisy operations in gate-based\nquantum computers with trapped-ions or superconducting circuits.\nInstead, the required entanglement is created off-line which is often\nsimpler to implement. Furthermore, it\\'s advantageous for photonics\nbecause the depth of the optical circuit can remain constant. This means\nthat it does not grow with the depth of the logical circuit, preventing\nintolerable losses.\n\nIn this demo, we assumed that the system is capable of performing\narbitrary single-qubit measurements. This is not a strict requirement,\nas one can acquire the same capabilities by sprinkling *magic states*\ninto the cluster state. A discussion of this topic is beyond the scope\nof this tutorial, but a good place to start is [this\npaper](https://arxiv.org/abs/quant-ph/0403025).\n\nXanadu\\'s approach toward a universal quantum computer involves\n*continuous-variable* cluster states . If you would like to learn more\nabout the architecture, you can read our blueprint papers and. We also\nhighly recommend watching [this\nvideo](https://www.youtube.com/watch?v=SD6TH7GZ1rM&feature=emb_title)\noutlining the main ideas!\n"
      ]
    },
    {
      "cell_type": "markdown",
      "metadata": {},
      "source": [
        "References\n==========\n"
      ]
    },
    {
      "cell_type": "markdown",
      "metadata": {},
      "source": [
        "About the authors \\-\\-\\-\\-\\-\\-\\-\\-\\-\\-\\-\\-\\-\\-\\--\n"
      ]
    }
  ],
  "metadata": {
    "kernelspec": {
      "display_name": "Python 3",
      "language": "python",
      "name": "python3"
    },
    "language_info": {
      "codemirror_mode": {
        "name": "ipython",
        "version": 3
      },
      "file_extension": ".py",
      "mimetype": "text/x-python",
      "name": "python",
      "nbconvert_exporter": "python",
      "pygments_lexer": "ipython3",
      "version": "3.9.16"
    }
  },
  "nbformat": 4,
  "nbformat_minor": 0
}